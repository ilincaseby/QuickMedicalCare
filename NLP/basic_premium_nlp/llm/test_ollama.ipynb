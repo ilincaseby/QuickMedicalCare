{
 "cells": [
  {
   "cell_type": "code",
   "execution_count": 101,
   "id": "925fb38c",
   "metadata": {},
   "outputs": [],
   "source": [
    "from ollama import chat\n",
    "from ollama import ChatResponse\n",
    "import pandas as pd\n",
    "import re"
   ]
  },
  {
   "cell_type": "code",
   "execution_count": 131,
   "id": "9d19060d",
   "metadata": {},
   "outputs": [],
   "source": [
    "def llm_classifier(message: str, symptoms: list, batch_few_shot: dict) -> str:\n",
    "    # response = chat(model=\"qwen2.5:3b\", messages=[\n",
    "    #     {\n",
    "    #         'role': 'user',\n",
    "    #         'content': f'Based on the provided list of symtoms {symptoms}, I want to classify, with one or more of the classes present in the list, the following sentence: \\\"{message}\\\", without any words, just a plain list the predictions. Here are some predefined sentences for fine-tuning:{df}'\n",
    "    #     }\n",
    "    # ])\n",
    "    response = chat(model=\"qwen3:4b\", messages=[\n",
    "    {\n",
    "        \"role\": \"user\",\n",
    "        \"content\": (\n",
    "            f\"You are an AI model trained to classify medical symptoms. \"\n",
    "            f\"Given a list of possible classes {symptoms} and a new sentence: \\\"{message}\\\", \"\n",
    "            f\"predict the relevant classes from the list. Only return a JSON array with the predicted class names, \"\n",
    "            f\"without any explanation, formatting, or extra text.\\n\"\n",
    "            # f\"Here are definitions and their labels for context:\\n{batch_few_shot}\\n\"\n",
    "            f\"As a medical AI, return classes that you are very sure about\\n\\n\"\n",
    "            f\"Your answer must be a valid Python list of strings.\"\n",
    "        )\n",
    "    }\n",
    "])\n",
    "    return response.message.content"
   ]
  },
  {
   "cell_type": "code",
   "execution_count": 103,
   "id": "4246ea02",
   "metadata": {},
   "outputs": [],
   "source": [
    "df = pd.read_csv(\"description_labelling.csv\")"
   ]
  },
  {
   "cell_type": "code",
   "execution_count": 104,
   "id": "562992b6",
   "metadata": {},
   "outputs": [],
   "source": [
    "symptoms = df['label'].unique().tolist()"
   ]
  },
  {
   "cell_type": "code",
   "execution_count": 129,
   "id": "2291a98b",
   "metadata": {},
   "outputs": [],
   "source": [
    "message = \"I had unprotected sex with unknown person, extra marriage. It hurts when walking, and I have pain my ass. I am fatigued\""
   ]
  },
  {
   "cell_type": "code",
   "execution_count": 106,
   "id": "e0691fa5",
   "metadata": {},
   "outputs": [],
   "source": [
    "batching_examples = {}"
   ]
  },
  {
   "cell_type": "code",
   "execution_count": 107,
   "id": "06ac759c",
   "metadata": {},
   "outputs": [
    {
     "name": "stderr",
     "output_type": "stream",
     "text": [
      "/var/folders/mj/9j67468n7s90t742b29r6zr80000gn/T/ipykernel_52364/1614798093.py:2: FutureWarning: Series.__getitem__ treating keys as positions is deprecated. In a future version, integer keys will always be treated as labels (consistent with DataFrame behavior). To access a value by position, use `ser.iloc[pos]`\n",
      "  batching_examples[row[-1]] = row[0]\n"
     ]
    }
   ],
   "source": [
    "for _, row in df.iterrows():\n",
    "    batching_examples[row[-1]] = row[0]"
   ]
  },
  {
   "cell_type": "code",
   "execution_count": 108,
   "id": "92511e8f",
   "metadata": {},
   "outputs": [],
   "source": [
    "slice_len = 20\n",
    "iterations = int(len(batching_examples) / slice_len)"
   ]
  },
  {
   "cell_type": "code",
   "execution_count": 109,
   "id": "457a6191",
   "metadata": {},
   "outputs": [
    {
     "data": {
      "text/plain": [
       "131"
      ]
     },
     "execution_count": 109,
     "metadata": {},
     "output_type": "execute_result"
    }
   ],
   "source": [
    "len(batching_examples)"
   ]
  },
  {
   "cell_type": "code",
   "execution_count": null,
   "id": "4816b994",
   "metadata": {},
   "outputs": [
    {
     "name": "stdout",
     "output_type": "stream",
     "text": [
      "<think>\n",
      "Okay, let's tackle this query. The user provided a sentence and a list of possible classes. I need to classify the symptoms mentioned into the correct classes.\n",
      "\n",
      "First, the sentence says, \"I had unprotected sex with unknown person, extra marriage. It hurts when walking, and I have pain my ass. I am fatigued.\"\n",
      "\n",
      "Breaking it down:\n",
      "\n",
      "1. \"Unprotected sex with unknown person\" and \"extra marriage\" – these might relate to sexually transmitted infections (STIs). Looking at the classes, there's \"toxic_look_(typhos)\" but that's more for typhoid. Wait, maybe \"extra_marital_contacts\" is a class. Yes, that's listed. So that's one class.\n",
      "\n",
      "2. \"It hurts when walking, and I have pain my ass.\" – \"pain_behind_the_eyes\" is a class, but the user is talking about pain in the ass, which is \"pain_in_anal_region\". Also, \"painful_walking\" is a class. So those two.\n",
      "\n",
      "3. \"I am fatigued\" – the class \"fatigue\" is present. So that's another one.\n",
      "\n",
      "Now, checking if there are any other symptoms. The user didn't mention anything else. So the relevant classes are \"extra_marital_contacts\", \"pain_in_anal_region\", \"painful_walking\", and \"fatigue\".\n",
      "\n",
      "Wait, but the user mentioned \"extra marriage\" which is \"extra_marital_contacts\". Also, \"pain my ass\" is \"pain_in_anal_region\". \"Hurt when walking\" is \"painful_walking\". And \"fatigued\" is \"fatigue\".\n",
      "\n",
      "I need to make sure these are all in the list. Let me check the classes again. Yes, \"pain_in_anal_region\" is there, \"painful_walking\" is there, \"fatigue\" is there, and \"extra_marital_contacts\" is listed. So those four classes are the correct ones.\n",
      "</think>\n",
      "\n",
      "[\"extra_marital_contacts\", \"pain_in_anal_region\", \"painful_walking\", \"fatigue\"]\n"
     ]
    }
   ],
   "source": [
    "# for i in range(iterations + 1):\n",
    "#     start = i * slice_len\n",
    "#     stop = min((i + 1) * slice_len, len(batching_examples))\n",
    "#     batch = {k: batching_examples[k] for k in list(batching_examples)[start:stop]}\n",
    "#     print(qwen2_5_classifier(message, list(batch.keys()), batch))\n",
    "\n",
    "\n",
    "print(llm_classifier(message, symptoms, {}))"
   ]
  }
 ],
 "metadata": {
  "kernelspec": {
   "display_name": "venv",
   "language": "python",
   "name": "python3"
  },
  "language_info": {
   "codemirror_mode": {
    "name": "ipython",
    "version": 3
   },
   "file_extension": ".py",
   "mimetype": "text/x-python",
   "name": "python",
   "nbconvert_exporter": "python",
   "pygments_lexer": "ipython3",
   "version": "3.12.9"
  }
 },
 "nbformat": 4,
 "nbformat_minor": 5
}
