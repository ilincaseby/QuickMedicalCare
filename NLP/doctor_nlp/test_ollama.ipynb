{
 "cells": [
  {
   "cell_type": "code",
   "execution_count": 1,
   "id": "4ae6ecb4",
   "metadata": {},
   "outputs": [],
   "source": [
    "from ollama import chat\n",
    "from ollama import ChatResponse\n",
    "import pandas as pd\n",
    "import re\n",
    "import json"
   ]
  },
  {
   "cell_type": "code",
   "execution_count": 87,
   "id": "98e4b043",
   "metadata": {},
   "outputs": [],
   "source": [
    "def llm_classifier_single_value(message: str, symptoms_codes: list, batch: dict) -> str:\n",
    "    # response = chat(model=\"qwen2.5:3b\", messages=[\n",
    "    #     {\n",
    "    #         'role': 'user',\n",
    "    #         'content': f'Based on the provided list of symtoms {symptoms}, I want to classify, with one or more of the classes present in the list, the following sentence: \\\"{message}\\\", without any words, just a plain list the predictions. Here are some predefined sentences for fine-tuning:{df}'\n",
    "    #     }\n",
    "    # ])\n",
    "#     response = chat(model=\"qwen3:4b\", messages=[\n",
    "#     {\n",
    "#         \"role\": \"user\",\n",
    "#         \"content\": (\n",
    "#             f\"You are an AI model trained to classify medical symptoms. \"\n",
    "#             f\"Given a list of possible classes {symptoms_codes} and a new sentence: \\\"{message}\\\", \"\n",
    "#             f\"predict the relevant classes from the list. Only return a JSON array with the predicted class names, \"\n",
    "#             f\"without any explanation, formatting, or extra text.\\n\"\n",
    "#             f\"Here are some example training sentences and their labels for context:\\n{batch}\\n\\n\"\n",
    "#             # f\"As a medical AI, return classes that you are very sure about\\n\\n\"\n",
    "#             f\"Your answer must be a valid Python list of strings.\"\n",
    "#         )\n",
    "#     }\n",
    "# ])\n",
    "    response = chat(model=\"qwen3:4b\", messages=[\n",
    "    {\n",
    "        \"role\": \"user\",\n",
    "        \"content\": (\n",
    "            f\"You are a strict symptom classifier.\\n\"\n",
    "            f\"You are given:\\n- A sentence describing symptoms: \\\"{message}\\\"\\n\"\n",
    "            f\"A list of valid symptom codes: {symptoms_codes}\\n\\n\"\n",
    "            f\"Your job is to return a Python list of symptom codes that are clearly and directly indicated in the sentence.\\n\"\n",
    "            f\"Do NOT infer or guess the cause of the symptoms.\\n\"\n",
    "            f\"Do NOT include codes that are not explicitly or semantically mentioned.\\n\"\n",
    "            f\"You ARE allowed to match equivalent everyday phrases, e.g., 'high temperature' → 'fever', 'throwing up' → 'vomiting'.\\n\"\n",
    "            f\"Only return the most direct and clearly stated symptoms you are very sure about.\\n\\n\"\n",
    "            f\"Here are some labeled examples:\\n{batch}\\n\\n\"\n",
    "            f\"Output a valid Python list of symptom codes, and nothing else.\"\n",
    "        )\n",
    "    }\n",
    "])\n",
    "    return response.message.content"
   ]
  },
  {
   "cell_type": "code",
   "execution_count": 88,
   "id": "14b78845",
   "metadata": {},
   "outputs": [],
   "source": [
    "no_values_data = {}\n",
    "no_value_meaning_data = {}\n",
    "multiple_values_data = {}"
   ]
  },
  {
   "cell_type": "code",
   "execution_count": 89,
   "id": "bf4d69e3",
   "metadata": {},
   "outputs": [],
   "source": [
    "with open(\"evidences/release_evidences_simplified_no_values_examples.json\", \"r\") as file:\n",
    "    no_values_data = json.load(file)\n",
    "\n",
    "with open(\"evidences/release_evidences_simplified_no_value_meaning_examples.json\", \"r\") as file:\n",
    "    no_value_meaning_data = json.load(file)\n",
    "\n",
    "with open(\"evidences/release_evidences_simplified_value_meaning_examples.json\", \"r\") as file:\n",
    "    multiple_values_data = json.load(file)"
   ]
  },
  {
   "cell_type": "code",
   "execution_count": 90,
   "id": "824e5458",
   "metadata": {},
   "outputs": [],
   "source": [
    "message = \"I noticed an intense fever, coughing non-stop. I noticed skin rash all over my body\""
   ]
  },
  {
   "cell_type": "code",
   "execution_count": 91,
   "id": "fb92a568",
   "metadata": {},
   "outputs": [
    {
     "data": {
      "text/plain": [
       "208"
      ]
     },
     "execution_count": 91,
     "metadata": {},
     "output_type": "execute_result"
    }
   ],
   "source": [
    "len(no_values_data)"
   ]
  },
  {
   "cell_type": "code",
   "execution_count": 94,
   "id": "827c54d0",
   "metadata": {},
   "outputs": [],
   "source": [
    "import ast"
   ]
  },
  {
   "cell_type": "code",
   "execution_count": 95,
   "id": "efdee8df",
   "metadata": {},
   "outputs": [
    {
     "name": "stdout",
     "output_type": "stream",
     "text": [
      "['E_91', 'E_53', 'E_159', 'E_129', 'E_154', 'E_155', 'E_210', 'E_140', 'E_51', 'E_75', 'E_89', 'E_114', 'E_82', 'E_148', 'E_94', 'E_220', 'E_161', 'E_179', 'E_162', 'E_173', 'E_33', 'E_218', 'E_93', 'E_66', 'E_163', 'E_30', 'E_127', 'E_181', 'E_88', 'E_43', 'E_156', 'E_144', 'E_216', 'E_201', 'E_217', 'E_215', 'E_64', 'E_96', 'E_16', 'E_50', 'E_97', 'E_9', 'E_76', 'E_102', 'E_65', 'E_74', 'E_205', 'E_63', 'E_128', 'E_190']\n",
      "{'E_91': 'you have a fever (either felt or measured with a thermometer)', 'E_53': 'you have pain somewhere, related to your reason for consulting', 'E_159': 'you lose consciousness', 'E_129': 'you have any lesions, redness or problems on your skin that you believe are related to the condition you are consulting for', 'E_154': 'your skin much paler than usual', 'E_155': 'you feel your heart is beating fast (racing), irregularly (missing a beat) or do you feel palpitations', 'E_210': 'you recently thrown up blood or something resembling coffee beans', 'E_140': 'you recently had stools that were black (like coal)', 'E_51': 'you had diarrhea or an increase in stool frequency', 'E_75': 'you feel like you are (or were) choking or suffocating', 'E_89': 'you constantly feel fatigued or do you have non-restful sleep', 'E_114': 'you more irritable or has your mood been very unstable recently', 'E_82': 'you feel lightheaded and dizzy or do you feel like you are about to faint', 'E_148': 'you feeling nauseous or do you feel like vomiting', 'E_94': 'you had chills or shivers', 'E_220': 'you have pain that is increased when you breathe in deeply', 'E_161': 'you recently had a loss of appetite or do you get full more quickly then usually', 'E_179': 'you noticed light red blood or blood clots in your stool', 'E_162': 'you had an involuntary weight loss over the last 3 months', 'E_173': 'you have a burning sensation that starts in your stomach then goes up into your throat, and can be associated with a bitter taste in your mouth', 'E_33': 'you have pain that improves when you lean forward', 'E_218': 'you have symptoms that are increased with physical exertion but alleviated with rest', 'E_93': 'you have numbness, loss of sensation or tingling in the feet', 'E_66': 'you experiencing shortness of breath or difficulty breathing in a significant way', 'E_163': 'you had any vaginal discharge', 'E_30': 'you feel your abdomen is bloated or distended (swollen due to pressure from inside)', 'E_127': 'you feel that your eyes produce excessive tears', 'E_181': 'you have nasal congestion or a clear runny nose', 'E_88': 'you feel so tired that you are unable to do your usual activities or are you stuck in your bed all day long', 'E_43': 'you lost consciousness associated with violent and sustained muscle contractions or had an absence episode', 'E_156': 'you had weakness or paralysis on one side of the face, which may still be present or completely resolved', 'E_144': 'you have diffuse (widespread) muscle pain', 'E_216': 'you have pain that is increased with movement', 'E_201': 'you have a cough', 'E_217': 'your symptoms worse when lying down and alleviated while sitting up', 'E_215': 'you have symptoms that get worse after eating', 'E_64': 'you feel out of breath with minimal physical effort', 'E_96': 'you gained weight recently', 'E_16': 'you feel anxious', 'E_50': 'you had significantly increased sweating', 'E_97': 'you have a sore throat', 'E_9': 'you have swollen or painful lymph nodes', 'E_76': 'you feel slightly dizzy or lightheaded', 'E_102': 'you consulting because you have high blood pressure', 'E_65': 'you have difficulty swallowing, or have a feeling of discomfort/blockage when swallowing', 'E_74': 'you noticed a diffuse (widespread) redness in one or both eyes', 'E_205': 'you suddenly have difficulty or an inability to open your mouth or have jaw pain when opening it', 'E_63': 'you have difficulty articulating words/speaking', 'E_128': 'you ever felt like you were suffocating for a very short time associated with inability to breathe or speak', 'E_190': 'you noticed that you produce more saliva than usual'}\n",
      "['E_91', 'E_201', 'E_129']\n",
      "<class 'list'>\n"
     ]
    }
   ],
   "source": [
    "batch = {}\n",
    "list_of_values = list(no_values_data.keys())[0:50]\n",
    "for i in range(len(list_of_values)):\n",
    "    batch[list_of_values[i]] = no_values_data[list_of_values[i]]\n",
    "print(list_of_values)\n",
    "print(batch)\n",
    "strstr = llm_classifier_single_value(message, list_of_values, batch)\n",
    "\n",
    "after_think = strstr.split(\"</think>\")[-1].strip()\n",
    "\n",
    "# Evaluăm lista ca obiect Python real\n",
    "try:\n",
    "    result_list = ast.literal_eval(after_think)\n",
    "    print(result_list)          # ['E_58_@_10']\n",
    "    print(type(result_list))    # <class 'list'>\n",
    "except Exception as e:\n",
    "    print(\"Eroare la parsare:\", e)"
   ]
  },
  {
   "cell_type": "code",
   "execution_count": 61,
   "id": "1e5d7b0e",
   "metadata": {},
   "outputs": [],
   "source": [
    "def llm_classifier_with_values(message: str, symptoms_with_scales: dict) -> str:\n",
    "    response = chat(model=\"qwen3:4b\", messages=[\n",
    "        {\n",
    "            \"role\": \"user\",\n",
    "            \"content\": (\n",
    "                f\"You are a medical AI trained to detect and quantify symptom severity from natural language.\\n\\n\"\n",
    "                f\"Input sentence: \\\"{message}\\\"\\n\\n\"\n",
    "                f\"You are given a list of symptom codes with associated questions and scales (0 to 10):\\n\"\n",
    "                f\"{symptoms_with_scales}\\n\\n\"\n",
    "                f\"Your job:\\n\"\n",
    "                f\"1. Identify which symptoms from the list are explicitly or semantically mentioned in the sentence.\\n\"\n",
    "                f\"2. Estimate the intensity of each symptom on the 0–10 scale, based on words like 'mild', 'severe', etc.\\n\"\n",
    "                f\"3. Return only clearly expressed symptoms.\\n\\n\"\n",
    "                f\"Output format:\\n\"\n",
    "                f\"A valid Python list of strings, where each string is in the format: 'E_CODE_@_VALUE', for example: [\\\"E_136_@_9\\\", \\\"E_56_@_7\\\"]\\n\\n\"\n",
    "                f\"Rules:\\n\"\n",
    "                f\"- DO NOT invent symptoms.\\n\"\n",
    "                f\"- DO NOT include explanations.\\n\"\n",
    "                f\"- DO NOT output anything other than the list.\\n\"\n",
    "                f\"- ONLY include symptoms from the given dictionary.\\n\"\n",
    "                f\"- If no matching symptom is present, return an empty list: []\"\n",
    "            )\n",
    "        }\n",
    "    ])\n",
    "    return response.message.content"
   ]
  },
  {
   "cell_type": "code",
   "execution_count": 9,
   "id": "968aaee8",
   "metadata": {},
   "outputs": [],
   "source": [
    "message_for_value = \"I have pain that appeared some fast, while the pain is not as intese, maybe mild. I have pain from rash very extreme.\""
   ]
  },
  {
   "cell_type": "code",
   "execution_count": 10,
   "id": "744193eb",
   "metadata": {},
   "outputs": [
    {
     "name": "stdout",
     "output_type": "stream",
     "text": [
      "<think>\n",
      "Okay, let's tackle this. The user provided a sentence and a list of symptoms with their respective scales. My job is to identify which symptoms are mentioned and assign the correct intensity values.\n",
      "\n",
      "First, I'll read the input sentence again: \"I have pain that appeared some fast, while the pain is not as intese, maybe mild. I have pain from rash very extreme.\"\n",
      "\n",
      "Looking at the symptoms in the list:\n",
      "\n",
      "E_59: How fast did the pain appear? The sentence says \"appeared some fast,\" which probably refers to the speed of onset. So that's E_59. The scale is 0-10. The word \"fast\" here might mean the pain started quickly, so maybe a higher value. But the example is about speed, so I need to map \"some fast\" to a number. The scale is from 0 to 10, but the example isn't clear. Wait, the example is \"How fast did the pain appear?\" So the scale is for the speed, not the intensity. The user says \"some fast\"—maybe \"some\" is a modifier. But the scale is 0-10, so maybe \"fast\" is a 7 or 8? Or maybe it's a 5? Wait, the example is about speed, so maybe \"some fast\" is a moderate speed. But I'm not sure. However, the user might have intended \"fast\" as a higher value. But I need to be cautious here. Maybe the answer is 7, but I'm not certain. Alternatively, maybe the user is referring to the onset speed as \"some fast\" which could be a 5? Hmm, but the problem says to estimate based on words like 'mild', 'severe', etc. But \"fast\" here is about speed, not intensity. However, the scale for E_59 is 0-10. The example is about the speed, so maybe \"some fast\" is a 7? Or maybe the answer is 5? Wait, the user says \"the pain is not as intese, maybe mild.\" So \"intese\" is probably \"intense\", and \"mild\" is for the intensity. So the pain is mild, which would be E_56. Then the pain from rash is \"very extreme,\" which is E_134. \n",
      "\n",
      "So let's break it down:\n",
      "\n",
      "First part: \"I have pain that appeared some fast...\" So E_59 is about how fast the pain appeared. The user says \"some fast\"—maybe that's a 7? Or maybe \"some\" is a modifier. But the scale is 0-10, so \"some fast\" could be 7. \n",
      "\n",
      "Then \"the pain is not as intense, maybe mild.\" So E_56 is about the intensity of the pain. \"Mild\" would be 3 or 4? Wait, the scale is 0-10. Mild is usually 3, but maybe the user is saying \"not as intense\" so maybe lower. But the example says \"mild\", so maybe 3. \n",
      "\n",
      "Then \"I have pain from rash very extreme.\" So E_134 is about the intensity of the pain caused by the rash. \"Very extreme\" would be 9 or 10. \n",
      "\n",
      "So the symptoms are E_59, E_56, E_134. \n",
      "\n",
      "Wait, but the user also mentions \"rash very extreme.\" But the symptom E_134 is about the pain from the rash. So the \"extreme\" is the intensity of the pain from the rash. So that's E_134. \n",
      "\n",
      "So the three symptoms are E_59, E_56, E_134. \n",
      "\n",
      "Now, for E_59: \"some fast\"—I need to assign a number. Since the scale is 0-10, and \"some fast\" is vague. But maybe the answer is 7, as a moderate speed. Alternatively, if \"fast\" is 10, but \"some\" might bring it down. Maybe 5? But I'm not sure. However, the user might have intended \"some fast\" as a 7. \n",
      "\n",
      "Alternatively, maybe the answer is 5. But I need to check if there's a way to get a number. The example for E_59 is \"How fast did the pain appear?\" So the user is describing the speed. The sentence says \"some fast\"—maybe \"some\" is a modifier, so \"fast\" is the key. So maybe 7. \n",
      "\n",
      "But the user might be using \"some fast\" as a way to say the pain started quickly, so maybe 7. \n",
      "\n",
      "Then E_56 is \"not as intense, maybe mild\"—so \"mild\" is 3. \n",
      "\n",
      "E_134 is \"very extreme\"—so 9 or 10. \n",
      "\n",
      "So the final list would be E_59@7, E_56@3, E_134@10. \n",
      "\n",
      "But wait, the user says \"very extreme\", which is a high value. So 10. \n",
      "\n",
      "So the answer should be those three symptoms.\n",
      "</think>\n",
      "\n",
      "[\"E_59@7\", \"E_56@3\", \"E_134@10\"]\n"
     ]
    }
   ],
   "source": [
    "print(llm_classifier_with_values(message_for_value, no_value_meaning_data))"
   ]
  },
  {
   "cell_type": "code",
   "execution_count": 60,
   "id": "0cd9257b",
   "metadata": {},
   "outputs": [],
   "source": [
    "def llm_classifier_multiple_value_meaning(message: str, symptoms_codes: list, batch: dict) -> str:\n",
    "    # response = chat(model=\"qwen2.5:3b\", messages=[\n",
    "    #     {\n",
    "    #         'role': 'user',\n",
    "    #         'content': f'Based on the provided list of symtoms {symptoms}, I want to classify, with one or more of the classes present in the list, the following sentence: \\\"{message}\\\", without any words, just a plain list the predictions. Here are some predefined sentences for fine-tuning:{df}'\n",
    "    #     }\n",
    "    # ])\n",
    "#     response = chat(model=\"qwen3:4b\", messages=[\n",
    "#     {\n",
    "#         \"role\": \"user\",\n",
    "#         \"content\": (\n",
    "#             f\"You are an AI model trained to classify medical symptoms. \"\n",
    "#             f\"Given a list of possible classes {symptoms_codes} and a new sentence: \\\"{message}\\\", \"\n",
    "#             f\"predict the relevant classes from the list. Only return a JSON array with the predicted class names, \"\n",
    "#             f\"without any explanation, formatting, or extra text.\\n\"\n",
    "#             f\"Here are some example training sentences and their labels for context:\\n{batch}\\n\\n\"\n",
    "#             # f\"As a medical AI, return classes that you are very sure about\\n\\n\"\n",
    "#             f\"Your answer must be a valid Python list of strings.\"\n",
    "#         )\n",
    "#     }\n",
    "# ])\n",
    "    response = chat(model=\"qwen3:4b\", messages=[\n",
    "    {\n",
    "        \"role\": \"user\",\n",
    "        \"content\": (\n",
    "            f\"You are a strict symptom classifier.\\n\"\n",
    "            f\"You are given:\\n- A sentence describing symptoms: \\\"{message}\\\"\\n\"\n",
    "            f\"A list of valid symptom codes: {symptoms_codes}\\n\\n\"\n",
    "            f\"Your job is to return a Python list of symptom codes that are clearly and directly indicated in the sentence.\\n\"\n",
    "            f\"Do NOT infer or guess the cause of the symptoms.\\n\"\n",
    "            f\"Do NOT include codes that are not explicitly or semantically mentioned.\\n\"\n",
    "            f\"You ARE allowed to match equivalent everyday phrases, e.g., 'high temperature' → 'fever', 'throwing up' → 'vomiting'.\\n\"\n",
    "            f\"If the sentence includes right (R) or left (L), be precise and match it with the appropriate code. Do not confuse them.\\n\"\n",
    "            f\"Do not consider a location that is not explicitly mentioned in the sentence as valid.\\n\"\n",
    "            f\"Only return the most direct and clearly stated symptoms you are very sure about.\\n\\n\"\n",
    "            f\"Here are some labeled examples:\\n{batch}\\n\\n\"\n",
    "            f\"Output a valid Python list of symptom codes, and nothing else.\"\n",
    "        )\n",
    "    }\n",
    "])\n",
    "    return response.message.content\n",
    "\n"
   ]
  },
  {
   "cell_type": "code",
   "execution_count": 12,
   "id": "eeed673f",
   "metadata": {},
   "outputs": [],
   "source": [
    "message_value_meaning = \"I feel pain in my left arm, but also in anus and my reight leg.\""
   ]
  },
  {
   "cell_type": "code",
   "execution_count": 13,
   "id": "3798ac5d",
   "metadata": {},
   "outputs": [
    {
     "name": "stdout",
     "output_type": "stream",
     "text": [
      "<think>\n",
      "Okay, let me try to figure out how to approach this. The user provided a bunch of JSON data with symptom codes and their descriptions. They want a valid Python list of symptom codes, nothing else.\n",
      "\n",
      "First, I need to parse the JSON structure. The main keys are the question IDs like 'E_204', 'E_203', etc. Each has an 'example' and 'codes' list. The task is to extract all the code values from each 'codes' list.\n",
      "\n",
      "Wait, but looking at the example, for E_204, the codes include 'V_10(North Africa)' etc. But the user says \"symptom codes\" so maybe just the code part, like 'V_10', 'V_0', etc. But the example shows that the codes have descriptions in parentheses. However, the user's instruction says \"symptom codes\", so maybe the actual code is the part before the parentheses. But I need to check the example given in the problem.\n",
      "\n",
      "Looking at the first entry: 'V_10(North Africa)' — but in the output, maybe we just need the code part, like 'V_10', 'V_0', etc. However, the user's example in the problem might not be clear. Wait, the user says \"Output a valid Python list of symptom codes, and nothing else.\" So perhaps the symptom codes are the 'codes' entries, but the example shows that each code is like 'V_10(North Africa)'.\n",
      "\n",
      "But maybe the actual code is just the 'V_10' part. But I need to check the structure. For example, in the 'E_204' entry, the codes are like 'V_10(North Africa)', but in other entries, like 'E_203', the codes are 'V_10(North Africa)', etc. Wait, but looking at the first part of the data, the first key is 'V_10(North Africa)' but in the first part, the 'codes' under 'E_204' include 'V_10(North Africa)', etc. So perhaps the symptom codes are the full strings, including the descriptions in parentheses. But that might not be the case. Alternatively, maybe the code is the 'V_10' part, but the problem is that the user hasn't specified. But since the example given in the problem is that the 'codes' are like 'V_10(North Africa)', perhaps the user wants the full code including the description. However, that's not typical for symptom codes. Usually, codes are just identifiers. But given the data structure, the user might have intended the full string as the symptom code. Alternatively, maybe the code is the part before the parentheses. But the problem says \"symptom codes\", so perhaps the code is the 'V_10' part. However, looking at the example, the user might have provided the code as the full string. But this is unclear. But since the user hasn't specified, but in the example, the 'codes' for E_204 are entries like 'V_10(North Africa)', etc. So perhaps the correct approach is to extract all the code entries as they are, including the descriptions. But that's not standard. Alternatively, maybe the code is the 'V_10' part, but the problem is that the user hasn't specified. However, given the data structure, the 'codes' are the possible answers, so the user probably wants the full code as given. But perhaps the user wants the code without the description. But the problem is that the user's example is not clear. However, looking at the initial data, the 'codes' under E_204 include entries like 'V_10(North Africa)', so maybe the actual code is 'V_10', but the description is part of the answer. However, the user's instruction is to output a list of symptom codes. So maybe the code is the 'V_10' part. But how can I be sure?\n",
      "\n",
      "Alternatively, perhaps the symptom code is the entire string, including the description. But that's not typical. However, since the user provided that in the example, perhaps that's what they want. But the problem is that in the data, the 'codes' are the possible answers, so the code is the entire string. For example, in the E_204 example, the code is 'V_10(North Africa)', but in the first part of the data, the 'V_10' is part of the code. But this is confusing. However, the user's instruction says \"symptom codes\", so perhaps the code is the identifier part, like 'V_10', 'V_0', etc. But the problem is that in the data, the codes are like 'V_10(North Africa)', which suggests that the code is the entire string. However, that's not standard. But given that the user provided the data in this way, perhaps the correct approach is to extract all the code entries as they are in the 'codes' list. So for example, in E_204, the codes are 'V_10(North Africa)', 'V_0(North Africa)', etc. So the list would include all those strings. But that would be a list of strings, each being a code. However, that's not standard, but perhaps that's what the user wants.\n",
      "\n",
      "Alternatively, maybe the code is the part before the parentheses. For example, 'V_10' is the code, and the rest is the description. But that's not clear. However, the user's instruction says \"symptom codes\", so perhaps the code is the identifier. But without more context, it's hard to tell. However, the example in the problem shows that the 'codes' are the full strings, including the description. Therefore, I think the correct approach is to extract all the code entries as they are in the 'codes' list. So for each key in the JSON, collect all the code entries. So the final list would be all the 'codes' from each entry.\n",
      "\n",
      "So the steps are:\n",
      "\n",
      "1. Iterate over each key in the JSON data (E_204, E_203, etc.).\n",
      "2. For each key, collect all the 'codes' entries.\n",
      "3. Combine all these codes into a single list.\n",
      "\n",
      "But the user's example in the problem shows that the 'codes' for E_204 include entries like 'V_10(North Africa)', 'V_0(North Africa)', etc. So the list would be all those codes. But the user might have intended that. Therefore, the final answer is a list containing all these code entries from all the 'codes' lists.\n",
      "\n",
      "But the user's example in the problem shows that the output should be a Python list. So the answer would be a list of strings, each being a code. For example, the first code is 'V_10(North Africa)', then 'V_0(North Africa)', etc.\n",
      "\n",
      "But the user's instruction says \"symptom codes\", so maybe the code is just the 'V_10' part. However, without more context, it's hard to tell. But given the data structure, the 'codes' are the possible answers, which include the description. Therefore, the correct approach is to extract all the 'codes' as they are. Therefore, the final list is all the code entries from all the 'codes' lists.\n",
      "\n",
      "So the answer would be a list that includes all the code entries from each 'codes' list. So for example, the first entry under E_204 is 'V_10(North Africa)', then 'V_0(North Africa)', etc. Then, for E_203, the codes are similar. But the user's data includes multiple entries. So the final list is all the code entries from all the 'codes' lists in the provided JSON.\n",
      "\n",
      "Therefore, the Python list would be all the code entries from each 'codes' list in the JSON data. So the answer is a list of all those codes.\n",
      "</think>\n",
      "\n",
      "['V_10(North Africa)', 'V_0(North Africa)', 'V_1(West Africa)', 'V_2(South Africa)', 'V_3(Central America)', 'V_4(North America)', 'V_5(South America)', 'V_6(Asia)', 'V_7(South East Asia)', 'V_8(Caraibes)', 'V_9(Europe)', 'V_13(Oceania)']\n"
     ]
    }
   ],
   "source": [
    "batch = {}\n",
    "list_of_values = list(multiple_values_data.keys())[0:50]\n",
    "for i in range(len(list_of_values)):\n",
    "    batch[list_of_values[i]] = multiple_values_data[list_of_values[i]]\n",
    "print(llm_classifier_multiple_value_meaning(message_value_meaning, list_of_values, batch))"
   ]
  },
  {
   "cell_type": "code",
   "execution_count": 59,
   "id": "37baf4c8",
   "metadata": {},
   "outputs": [],
   "source": [
    "def llm_classifier_with_value_meaning(message: str, symptoms_with_values: dict) -> str:\n",
    "    response = chat(model=\"qwen3:4b\", messages=[\n",
    "        {\n",
    "            \"role\": \"user\",\n",
    "            \"content\": (\n",
    "                f\"You are a medical AI trained to identify symptom-related information from natural language.\\n\\n\"\n",
    "                f\"You are given a dictionary where each key is a symptom code (E_CODE), associated with an example and a list of possible values, each with a code and a description:\\n\\n\"\n",
    "                f\"{symptoms_with_values}\\n\\n\"\n",
    "                f\"Your task:\\n\"\n",
    "                f\"1. Detect which E_CODEs are relevant to the input message based on semantic meaning.\\n\"\n",
    "                f\"2. For each relevant E_CODE, choose the most appropriate V_CODEs(can be more than just one, depending on context) (based on the value descriptions).\\n\"\n",
    "                f\"3. Return the answer in this exact format:\\n\"\n",
    "                f\"A Python list of strings: [\\\"E_CODE_@_V_CODE\\\", ...]\\n\\n\"\n",
    "                f\"The input message is: \\\"{message}\\\"\\n\\n\"\n",
    "                f\"Rules:\\n\"\n",
    "                f\"- DO NOT invent E_CODEs or V_CODEs.\\n\"\n",
    "                f\"- ONLY use values from the provided dictionary.\\n\"\n",
    "                f\"- DO NOT add explanations or extra text.\\n\"\n",
    "                f\"You ARE allowed to match equivalent everyday phrases, e.g., 'high temperature' → 'fever', 'throwing up' → 'vomiting'.\\n\"\n",
    "                f\"- If nothing matches clearly, return: []\"\n",
    "            )\n",
    "        }\n",
    "    ])\n",
    "    return response.message.content"
   ]
  },
  {
   "cell_type": "code",
   "execution_count": 22,
   "id": "447b8840",
   "metadata": {},
   "outputs": [],
   "source": [
    "message_value_meaning = \"I feel pain in my both arms. I feel pain under the jaw. Also, this pain radiates to my lower chest.\""
   ]
  },
  {
   "cell_type": "code",
   "execution_count": 23,
   "id": "23ff5b66",
   "metadata": {},
   "outputs": [
    {
     "name": "stdout",
     "output_type": "stream",
     "text": [
      "<think>\n",
      "Okay, let's tackle this. The user says they feel pain in both arms, under the jaw, and it radiates to the lower chest.\n",
      "\n",
      "First, I need to find the relevant E_CODEs. The input mentions pain in both arms and radiates to the lower chest. Looking at the E_CODEs provided, there's E_CODE for \"pain in\" and \"pain radiates to\". Wait, the E_CODEs are \"pain in\" and \"pain radiates to\". Wait, the keys are \"E_CODEs\" but the user provided two entries: one for \"pain in\" (E_CODE) and another for \"pain radiates to\" (E_CODE). Wait, looking at the user's input, the two E_CODEs are \"E_CODE\" with the first being \"pain in\" and the second being \"pain radiates to\". Wait, the user's input is the two E_CODEs: \"pain in\" and \"pain radiates to\". Wait, the problem says that the user's input is the message, and we need to detect which E_CODEs are relevant based on semantic meaning. So, the E_CODEs are the keys in the provided dictionary. Wait, the user provided two E_CODEs: \"pain in\" and \"pain radiates to\". Wait, looking at the user's message, the first part is \"I feel pain in my both arms.\" So that's \"pain in\" which corresponds to the E_CODE \"pain in\". The second part is \"this pain radiates to my lower chest.\" So that's \"pain radiates to\", which is the other E_CODE. So both E_CODEs are relevant.\n",
      "\n",
      "Now, for each E_CODE, we need to select the appropriate V_CODEs. \n",
      "\n",
      "For the first E_CODE \"pain in my both arms\": the V_CODEs should be related to arms. Looking at the V_CODES, there are entries like \"forearm(R)\", \"forearm(L)\", \"elbow(R)\", \"elbow(L)\", etc. So \"both arms\" would be \"forearm(R)\", \"forearm(L)\", and maybe \"upper arm\" but I need to check the V_CODES. Wait, the V_CODES include \"forearm(R)\", \"forearm(L)\", \"elbow(R)\", \"elbow(L)\", but maybe \"arm\" is not directly listed. However, \"forearm\" is part of the arm. Since the user said \"both arms\", perhaps the most relevant are \"forearm(R)\" and \"forearm(L)\", but also maybe \"upper arm\" if it's present. Wait, looking at the V_CODES provided, there's no \"upper arm\" entry. So the closest would be the forearm. Alternatively, maybe \"arm\" is not present, but the user might mean the entire arm, but since the V_CODES don't have that, we have to use the available ones. So \"forearm(R)\" and \"forearm(L)\" are the closest. But wait, the user says \"both arms\", so maybe \"forearm(R)\", \"forearm(L)\", \"elbow(R)\", \"elbow(L)\"? Or maybe just the forearms? Hmm. But the problem says to choose the most appropriate V_CODEs based on the value descriptions. The value descriptions for \"forearm(R)\" is \"forearm (right)\", so that's part of the arm. So \"both arms\" would be \"forearm(R)\" and \"forearm(L)\". But maybe \"arm\" isn't directly listed, but the user might mean the entire arm. However, since the V_CODES don't have \"arm\", perhaps the best is to use the forearm codes.\n",
      "\n",
      "Next, the second part is \"pain under the jaw\". The V_CODES include \"under the jaw\" as \"under the jaw\" is V_CODE \"under the jaw\"? Wait, looking at the V_CODES, there's \"under the jaw\" as a code? Wait, looking at the V_CODES in the provided data, the entries include \"under the jaw\" as a V_CODE. Wait, in the V_CODES, the list includes \"under the jaw\" (V_163?), but looking at the user's data, the V_CODES are listed with their descriptions. For example, \"V_20(tonsil(R))\", etc. Wait, the V_CODES are listed with their codes, like \"V_20(tonsil(R))\", but looking at the user's input, the V_CODES are listed as entries in the dictionary. Wait, the user provided two E_CODEs, each with a list of V_CODES. For example, under \"pain in\", the V_CODES include \"forearm(R)\", \"forearm(L)\", etc. So for \"under the jaw\", looking at the V_CODES, there's \"under the jaw\" as a code? Wait, in the V_CODES, the entry \"under the jaw\" is V_163. Let me check the user's data again.\n",
      "\n",
      "Looking at the V_CODES for E_CODE \"pain in\", the list includes \"under the jaw\" as V_163? Let me check. The user provided two E_CODEs, both with the same list of V_CODES. Looking at the V_CODES in the first E_CODE (pain in), there's \"V_163(under the jaw)\"? Wait, in the user's data, the V_CODES for the first E_CODE include \"V_163(under the jaw)\"? Wait, the user's data shows that in the first E_CODE, the V_CODES include \"V_163(under the jaw)\"? Let me check again.\n",
      "\n",
      "Looking at the user's data, for the first E_CODE (pain in), the V_CODES include:\n",
      "\n",
      "Looking at the first E_CODE's list, the V_CODES include \"under the jaw\" as one of the entries. Wait, in the user's data, the first E_CODE's V_CODES include:\n",
      "\n",
      "\"V_163(under the jaw)\", yes, because in the first E_CODE, the list includes \"V_163(under the jaw)\".\n",
      "\n",
      "So for \"under the jaw\", the V_CODE is \"under the jaw\" (V_163). \n",
      "\n",
      "Then, the third part is \"radiates to my lower chest\". The E_CODE for \"pain radiates to\" is the second E_CODE. The V_CODES for that E_CODE include \"lower chest\" as V_29. So \"lower chest\" is V_29.\n",
      "\n",
      "So putting it all together:\n",
      "\n",
      "For E_CODE \"pain in\", the V_CODES are \"forearm(R)\", \"forearm(L)\" for both arms. \n",
      "\n",
      "For E_CODE \"pain radiates to\", the V_CODE is \"lower chest\" (V_29). \n",
      "\n",
      "But also, the \"under the jaw\" is under the first E_CODE. Wait, the user's message says \"I feel pain under the jaw\" which is part of the \"pain in\" E_CODE. So the \"under the jaw\" is part of the first E_CODE. So the first E_CODE is \"pain in\", and the second is \"pain radiates to\".\n",
      "\n",
      "So the answer should be:\n",
      "\n",
      "[\"pain in@forearm(R)\", \"pain in@forearm(L)\", \"pain in@under the jaw\", \"pain radiates to@lower chest\"]\n",
      "\n",
      "Wait, but the user's message says \"I feel pain in my both arms. I feel pain under the jaw. Also, this pain radiates to my lower chest.\"\n",
      "\n",
      "So \"pain in my both arms\" is under \"pain in\" E_CODE, so that's two V_CODES for the arms. Then \"pain under the jaw\" is under \"pain in\" E_CODE. Then \"radiates to my lower chest\" is under \"pain radiates to\" E_CODE.\n",
      "\n",
      "So the list would be:\n",
      "\n",
      "For \"pain in\" E_CODE: \"forearm(R)\", \"forearm(L)\", \"under the jaw\".\n",
      "\n",
      "For \"pain radiates to\" E_CODE: \"lower chest\".\n",
      "\n",
      "So the final answer is:\n",
      "\n",
      "[\"pain in@forearm(R)\", \"pain in@forearm(L)\", \"pain in@under the jaw\", \"pain radiates to@lower chest\"]\n",
      "\n",
      "But wait, the user's message says \"I feel pain in my both arms\" which is the same as \"pain in both arms\", so the V_CODES for that would be \"forearm(R)\", \"forearm(L)\", and maybe \"arm(R)\", \"arm(L)\"? But in the V_CODES, there's no \"arm\" entry. So the best is \"forearm(R)\" and \"forearm(L)\".\n",
      "\n",
      "But the user says \"both arms\", so maybe the V_CODES for \"arm\" but since it's not present, the closest is forearm. Alternatively, maybe \"upper arm\" but that's not in the list. So the answer is the forearm codes.\n",
      "\n",
      "So the answer list is as above.\n",
      "</think>\n",
      "\n",
      "[\"pain in@forearm(R)\", \"pain in@forearm(L)\", \"pain in@under the jaw\", \"pain radiates to@lower chest\"]\n"
     ]
    }
   ],
   "source": [
    "batch = {}\n",
    "list_of_values = list(multiple_values_data.keys())[0:2]\n",
    "for i in range(len(list_of_values)):\n",
    "    batch[list_of_values[i]] = multiple_values_data[list_of_values[i]]\n",
    "#print(batch)\n",
    "print(llm_classifier_with_value_meaning(message_value_meaning, batch))"
   ]
  },
  {
   "cell_type": "code",
   "execution_count": 31,
   "id": "95b72f57",
   "metadata": {},
   "outputs": [
    {
     "data": {
      "text/plain": [
       "dict_keys(['E_55', 'E_57', 'E_54', 'E_133', 'E_130', 'E_135', 'E_131', 'E_152', 'E_204'])"
      ]
     },
     "execution_count": 31,
     "metadata": {},
     "output_type": "execute_result"
    }
   ],
   "source": [
    "multiple_values_data.keys()"
   ]
  },
  {
   "cell_type": "code",
   "execution_count": 33,
   "id": "93055cef",
   "metadata": {},
   "outputs": [
    {
     "name": "stdout",
     "output_type": "stream",
     "text": [
      "{'example': 'Your pain is', 'codes': ['V_11(NA)', 'V_71(heartbreaking)', 'V_112(haunting)', 'V_154(tedious)', 'V_161(sensitive)', 'V_179(a knife stroke)', 'V_180(tugging)', 'V_181(burning)', 'V_182(a cramp)', 'V_183(heavy)', 'V_184(a pulse)', 'V_191(violent)', 'V_192(sharp)', 'V_193(sickening)', 'V_196(scary)', 'V_198(exhausting)']}\n",
      "{'example': 'The color of the rash is', 'codes': ['V_11(NA)', 'V_86(dark)', 'V_107(yellow)', 'V_138(pale)', 'V_156(pink)', 'V_157(red)']}\n",
      "{'example': 'The lesion(or lesions if are multiple) are larger than 1cm(Y for yes and N for no)', 'codes': ['V_10(N)', 'V_12(Y)']}\n",
      "{'example': 'Your lesion(or lesions) peel off(Y for yes and N for no)', 'codes': ['V_10(N)', 'V_12(Y)']}\n",
      "{'example': 'If you traveled out of the country in the last 4 weeks, you traveled in', 'codes': ['V_10(N)', 'V_0(North Africa)', 'V_1(West Africa)', 'V_2(South Africa)', 'V_3(Central America)', 'V_4(North America)', 'V_5(South America)', 'V_6(Asia)', 'V_7(South East Asia)', 'V_8(Caraibes)', 'V_9(Europe)', 'V_13(Oceania)']}\n"
     ]
    }
   ],
   "source": [
    "e_codes_no_location = ['E_54', 'E_130', 'E_135', 'E_131', 'E_204']\n",
    "print(multiple_values_data[e_codes_no_location[0]])\n",
    "print(multiple_values_data[e_codes_no_location[1]])\n",
    "print(multiple_values_data[e_codes_no_location[2]])\n",
    "print(multiple_values_data[e_codes_no_location[3]])\n",
    "print(multiple_values_data[e_codes_no_location[4]])\n"
   ]
  },
  {
   "cell_type": "code",
   "execution_count": 29,
   "id": "8897474c",
   "metadata": {},
   "outputs": [
    {
     "name": "stdout",
     "output_type": "stream",
     "text": [
      "165\n",
      "165\n",
      "165\n",
      "165\n"
     ]
    }
   ],
   "source": [
    "e_codes = ['E_55', 'E_57', 'E_133', 'E_152']\n",
    "print(len(multiple_values_data[e_codes[0]]['codes']))\n",
    "print(len(multiple_values_data[e_codes[1]]['codes']))\n",
    "print(len(multiple_values_data[e_codes[2]]['codes']))\n",
    "print(len(multiple_values_data[e_codes[3]]['codes']))\n",
    "list_e_55 = multiple_values_data[e_codes[0]]['codes']\n",
    "list_e_57 = multiple_values_data[e_codes[1]]['codes']\n",
    "list_e_133 = multiple_values_data[e_codes[2]]['codes']\n",
    "list_e_152 = multiple_values_data[e_codes[3]]['codes']\n",
    "\n",
    "for elem in zip(list_e_55, list_e_57, list_e_133, list_e_152):\n",
    "    if elem[0] == elem[1] == elem[2] == elem[3]:\n",
    "        continue\n",
    "    else:\n",
    "        print(\"Not compatible\")"
   ]
  },
  {
   "cell_type": "code",
   "execution_count": 121,
   "id": "ca0877b1",
   "metadata": {},
   "outputs": [],
   "source": [
    "def build_prompt(message, e_codes_dict, v_codes_list):\n",
    "    e_code_str = \"\\n\".join([f\"{code} → \\\"{info['example']}\\\"\" for code, info in e_codes_dict.items()])\n",
    "    v_code_str = \"\\n\".join(v_codes_list)\n",
    "\n",
    "    return f\"\"\"\n",
    "You are a medical AI assistant trained to extract structured symptom information from patient descriptions.\n",
    "\n",
    "You are given:\n",
    "- A list of symptom types (E_CODEs), each with a short example that defines its meaning.\n",
    "- A shared list of body part locations (V_CODEs) to choose from.\n",
    "\n",
    "---\n",
    "\n",
    "Task:\n",
    "1. Carefully read the input message.\n",
    "2. Check if **any** of the E_CODE examples clearly match the meaning of parts of the message.\n",
    "3. For **each matching E_CODE**, choose all relevant V_CODEs that describe **exactly** the mentioned body part locations.\n",
    "4. Only select a V_CODE if the message refers **explicitly and unambiguously** to that body part.\n",
    "   - **Do not guess** or infer based on context.\n",
    "   - **If the reference is not completely clear, skip that V_CODE.**\n",
    "5. If there is **no clear match** for an E_CODE, skip it entirely.\n",
    "6. Only use E_CODEs and V_CODEs from the lists below. Do not invent anything.\n",
    "\n",
    "---\n",
    "\n",
    "E_CODEs and their semantic meaning (via example):\n",
    "{e_code_str}\n",
    "\n",
    "---\n",
    "\n",
    "V_CODEs (shared across all E_CODEs):\n",
    "{v_code_str}\n",
    "\n",
    "---\n",
    "\n",
    "Input message:\n",
    "\\\"{message}\\\"\n",
    "\n",
    "---\n",
    "\n",
    "Output rules:\n",
    "- Format: [\"E_CODE_@_V_CODE\", ...]\n",
    "- IMPORTANT: Use **exactly** \"_@_\" (with underscores). This is required.\n",
    "- ✅ Correct example: [\"E_55_@_V_27\", \"E_133_@_V_163\"]\n",
    "- ❌ Incorrect formats: [\"E_55@V_27\"], [\"E_55-V_27\"], [\"E_CODE_E_55_V_27\"]\n",
    "- Only include E_CODE_@_V_CODE pairs if both match clearly.\n",
    "- If nothing matches, return: []\n",
    "- Do not include explanations, comments, or any other text. Just the list.\n",
    "\"\"\""
   ]
  },
  {
   "cell_type": "code",
   "execution_count": 122,
   "id": "91d9cfeb",
   "metadata": {},
   "outputs": [],
   "source": [
    "def llm_classifier_with_value_localization(message: str) -> str:\n",
    "    response = chat(model=\"qwen3:4b\", messages=[\n",
    "        {\n",
    "            'role': 'user',\n",
    "            'content': message         \n",
    "        }\n",
    "    ])\n",
    "    return response.message.content"
   ]
  },
  {
   "cell_type": "code",
   "execution_count": 123,
   "id": "6a9920d3",
   "metadata": {},
   "outputs": [
    {
     "name": "stdout",
     "output_type": "stream",
     "text": [
      "[\"E_55_@_V_27\", \"E_55_@_V_28\", \"E_55_@_V_163\", \"E_57_@_V_55\", \"E_57_@_V_56\"]\n",
      "['E_55_@_V_27', 'E_55_@_V_28', 'E_55_@_V_163', 'E_57_@_V_55', 'E_57_@_V_56']\n",
      "<class 'list'>\n"
     ]
    }
   ],
   "source": [
    "localization_values = {code: multiple_values_data[code] for code in e_codes}\n",
    "v_codes = multiple_values_data[e_codes[0]][\"codes\"]\n",
    "\n",
    "string_prompt = build_prompt(message_value_meaning, localization_values, v_codes)\n",
    "aux = llm_classifier_with_value_localization(string_prompt)\n",
    "after_think = aux.split(\"</think>\")[-1].strip()\n",
    "print(after_think)\n",
    "\n",
    "# Evaluăm lista ca obiect Python real\n",
    "try:\n",
    "    result_list = ast.literal_eval(after_think)\n",
    "    print(result_list)          # ['E_58_@_10']\n",
    "    print(type(result_list))    # <class 'list'>\n",
    "except Exception as e:\n",
    "    print(\"Eroare la parsare:\", e)"
   ]
  },
  {
   "cell_type": "code",
   "execution_count": 68,
   "id": "ca9efcce",
   "metadata": {},
   "outputs": [],
   "source": [
    "def build_single_e_code_prompt(message: str, e_code: str, example: str, v_codes: list[str]) -> str:\n",
    "    v_code_str = \"\\n\".join(v_codes)\n",
    "\n",
    "    return f\"\"\"\n",
    "You are a medical AI assistant trained to extract structured symptom information from patient descriptions.\n",
    "\n",
    "You are analyzing a single symptom type identified by an E_CODE.\n",
    "\n",
    "---\n",
    "\n",
    "E_CODE: {e_code}  \n",
    "Meaning: {example}\n",
    "\n",
    "Available values (V_CODEs) for this symptom type:\n",
    "{v_code_str}\n",
    "\n",
    "---\n",
    "\n",
    "Task:\n",
    "1. Read the input message.\n",
    "2. Determine whether this E_CODE is relevant to the message based on its meaning.\n",
    "3. If it is relevant, select ALL V_CODEs from the list that are clearly referred to in the message.\n",
    "    A match is valid if the message contains:\n",
    "   - a direct statement (e.g., \"Yes\", \"No\"), or\n",
    "   - unambiguous descriptive language (e.g., \"small lesion\"), or\n",
    "   - negative or comparative logic (e.g., \"not larger than 1 cm\", \"less than 1 cm\", \"does not exceed 1 cm\")\n",
    "   - You may use basic commonsense reasoning to interpret clear, everyday language.\n",
    "   - Do NOT select a V_CODE if the meaning is vague or ambiguous.\n",
    "4. If the E_CODE does not apply, or none of the V_CODEs match clearly, return an empty list.\n",
    "\n",
    "---\n",
    "\n",
    "Input message:\n",
    "\\\"{message}\\\"\n",
    "\n",
    "---\n",
    "\n",
    "Output format:\n",
    "- List of matched value codes in this format: [\"{e_code}_@_V_CODE\", ...]\n",
    "- If no values match clearly, return: []\n",
    "- Do not include any explanation or extra text.\n",
    "\"\"\""
   ]
  },
  {
   "cell_type": "code",
   "execution_count": 81,
   "id": "064b1a30",
   "metadata": {},
   "outputs": [],
   "source": [
    "message_one_code = \"I couldn't peel off my lesions\"\n",
    "code = multiple_values_data['E_131']\n",
    "prompt = build_single_e_code_prompt(message_one_code, 'E_131', code['example'], code['codes'])"
   ]
  },
  {
   "cell_type": "code",
   "execution_count": 82,
   "id": "c9b711f9",
   "metadata": {},
   "outputs": [
    {
     "name": "stdout",
     "output_type": "stream",
     "text": [
      "<think>\n",
      "Okay, let's tackle this. The E_CODE is E_131, which asks if the lesion or lesions peel off. The available V_CODEs are V_10 (N) and V_12 (Y). The input message is \"I couldn't peel off my lesions\".\n",
      "\n",
      "First, I need to determine if the E_CODE is relevant. The meaning of E_131 is about whether the lesion peels off. The patient's message says they \"couldn't peel off my lesions\". That directly relates to the question in E_131. \n",
      "\n",
      "Now, checking the V_CODEs. The options are Y (yes) and N (no). The message says \"couldn't peel off\", which implies that the peeling didn't happen. So that would correspond to \"No\", which is V_10. But wait, the V_CODEs are V_10 (N) and V_12 (Y). So if the patient couldn't peel off, that's a negative answer. Therefore, the correct V_CODE here is V_10. \n",
      "\n",
      "But wait, the message says \"couldn't peel off\", which is a direct negative statement. So the answer should be N. Therefore, the matched value code is V_10. \n",
      "\n",
      "I need to make sure there's no ambiguity. The message is clear: the person is stating that they couldn't peel off their lesions, so the answer is no. Hence, the correct V_CODE is V_10. \n",
      "\n",
      "So the output should be [\"E_131_@_V_10\"].\n",
      "</think>\n",
      "\n",
      "[\"E_131_@_V_10\"]\n"
     ]
    }
   ],
   "source": [
    "aux = llm_classifier_with_value_localization(prompt)\n",
    "print(aux)"
   ]
  },
  {
   "cell_type": "code",
   "execution_count": 115,
   "id": "d95d177f",
   "metadata": {},
   "outputs": [],
   "source": [
    "def build_multi_e_code_prompt(message: str, e_code_data: dict) -> str:\n",
    "    e_code_sections = []\n",
    "    for e_code, e_info in e_code_data.items():\n",
    "        example = e_info[\"example\"]\n",
    "        v_codes = \"\\n\".join(e_info[\"codes\"])\n",
    "        section = f\"E_CODE: {e_code}\\nMeaning: {example}\\nAvailable V_CODEs:\\n{v_codes}\"\n",
    "        e_code_sections.append(section)\n",
    "\n",
    "    e_code_str = \"\\n\\n\".join(e_code_sections)\n",
    "\n",
    "    return f\"\"\"\n",
    "You are a medical AI assistant trained to extract structured symptom information from patient descriptions.\n",
    "\n",
    "Each symptom type is identified by an E_CODE. Each E_CODE has specific possible values called V_CODEs.\n",
    "\n",
    "---\n",
    "\n",
    "Your Task:\n",
    "1. For each E_CODE, check if it applies to the message.\n",
    "2. If it does, extract one or more matching V_CODEs.\n",
    "3. Output each match in **this exact format**: E_CODE_@_V_CODE\n",
    "   - Example: E_01_@_V_09\n",
    "   - DO NOT use any other format like E_CODE_E_01_V_09 (this is INVALID)\n",
    "   - DO NOT include extra prefixes or suffixes.\n",
    "   - DO NOT use just @ — it must be exactly \"_@_\"\n",
    "4. If nothing matches, return an empty list: []\n",
    "\n",
    "---\n",
    "\n",
    "E_CODE definitions and values:\n",
    "{e_code_str}\n",
    "\n",
    "---\n",
    "\n",
    "Input message:\n",
    "\\\"{message}\\\"\n",
    "\n",
    "---\n",
    "\n",
    "Output:\n",
    "- List of strings formatted exactly like: [\"E_CODE_@_V_CODE\"]\n",
    "\"\"\""
   ]
  },
  {
   "cell_type": "code",
   "execution_count": 116,
   "id": "4ea1656a",
   "metadata": {},
   "outputs": [],
   "source": [
    "e_codes_no_location = ['E_54', 'E_130', 'E_135', 'E_131', 'E_204']\n",
    "e_code_data = {code: multiple_values_data[code] for code in e_codes_no_location}\n",
    "message_mult_e_codes = 'I went to Europe last week and suddenly I had a pain like a knife stroke'"
   ]
  },
  {
   "cell_type": "code",
   "execution_count": 117,
   "id": "190ac3f2",
   "metadata": {},
   "outputs": [],
   "source": [
    "prompttt = build_multi_e_code_prompt(message_mult_e_codes, e_code_data)"
   ]
  },
  {
   "cell_type": "code",
   "execution_count": 118,
   "id": "a2ed53a6",
   "metadata": {},
   "outputs": [
    {
     "name": "stdout",
     "output_type": "stream",
     "text": [
      "[\"E_54_@_V_179\", \"E_204_@_V_9\"]\n",
      "['E_54_@_V_179', 'E_204_@_V_9']\n",
      "<class 'list'>\n"
     ]
    }
   ],
   "source": [
    "aux = llm_classifier_with_value_localization(prompttt)\n",
    "\n",
    "after_think = aux.split(\"</think>\")[-1].strip()\n",
    "print(after_think)\n",
    "\n",
    "# Evaluăm lista ca obiect Python real\n",
    "try:\n",
    "    result_list = ast.literal_eval(after_think)\n",
    "    print(result_list)          # ['E_58_@_10']\n",
    "    print(type(result_list))    # <class 'list'>\n",
    "except Exception as e:\n",
    "    print(\"Eroare la parsare:\", e)"
   ]
  }
 ],
 "metadata": {
  "kernelspec": {
   "display_name": "venv",
   "language": "python",
   "name": "python3"
  },
  "language_info": {
   "codemirror_mode": {
    "name": "ipython",
    "version": 3
   },
   "file_extension": ".py",
   "mimetype": "text/x-python",
   "name": "python",
   "nbconvert_exporter": "python",
   "pygments_lexer": "ipython3",
   "version": "3.12.9"
  }
 },
 "nbformat": 4,
 "nbformat_minor": 5
}
