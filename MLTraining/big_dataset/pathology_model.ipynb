{
 "cells": [
  {
   "cell_type": "code",
   "execution_count": 2,
   "id": "60594807",
   "metadata": {},
   "outputs": [],
   "source": [
    "import pandas as pd\n",
    "import numpy as np\n",
    "from sklearn.preprocessing import MinMaxScaler\n"
   ]
  },
  {
   "cell_type": "code",
   "execution_count": 3,
   "id": "4355a3b7",
   "metadata": {},
   "outputs": [
    {
     "name": "stdout",
     "output_type": "stream",
     "text": [
      "TensorFlow version: 2.16.2\n",
      "Num GPUs Available:  1\n"
     ]
    }
   ],
   "source": [
    "import tensorflow as tf\n",
    "\n",
    "print(\"TensorFlow version:\", tf.__version__)\n",
    "print(\"Num GPUs Available: \", len(tf.config.list_physical_devices('GPU')))"
   ]
  },
  {
   "cell_type": "code",
   "execution_count": 36,
   "id": "0d723763",
   "metadata": {},
   "outputs": [
    {
     "name": "stdout",
     "output_type": "stream",
     "text": [
      "PhysicalDevice(name='/physical_device:CPU:0', device_type='CPU')\n",
      "PhysicalDevice(name='/physical_device:GPU:0', device_type='GPU')\n"
     ]
    }
   ],
   "source": [
    "devices = tf.config.list_physical_devices()\n",
    "for d in devices:\n",
    "    print(d)"
   ]
  },
  {
   "cell_type": "code",
   "execution_count": 6,
   "id": "ba3fa41c",
   "metadata": {},
   "outputs": [],
   "source": [
    "df = pd.read_csv(\"preprocessed_dataset/preprocessed_train_nondiff.csv\")"
   ]
  },
  {
   "cell_type": "code",
   "execution_count": 7,
   "id": "2d2de67d",
   "metadata": {},
   "outputs": [],
   "source": [
    "df['SEX'] = df['SEX'].map({'M': 1, 'F': 0})"
   ]
  },
  {
   "cell_type": "code",
   "execution_count": 8,
   "id": "c7cd2d8c",
   "metadata": {},
   "outputs": [],
   "source": [
    "min_max_scaler = MinMaxScaler()\n",
    "df['AGE'] = min_max_scaler.fit_transform(df[['AGE']])"
   ]
  },
  {
   "cell_type": "code",
   "execution_count": 9,
   "id": "e50d9fa7",
   "metadata": {},
   "outputs": [],
   "source": [
    "import json"
   ]
  },
  {
   "cell_type": "code",
   "execution_count": 10,
   "id": "5b8bfb5a",
   "metadata": {},
   "outputs": [],
   "source": [
    "def obtain_evidences():\n",
    "    with open(\"huggingface_dataset/ddxplus/release_evidences.json\", \"r\") as f:\n",
    "        release_evidences = json.load(f)\n",
    "    set_evidences = []\n",
    "    for key, value in release_evidences.items():\n",
    "        if len(value['possible-values']) > 0:\n",
    "            for val in value['possible-values']:\n",
    "                set_evidences.append(f'{key}_@_{val}')\n",
    "        else:\n",
    "            set_evidences.append(f'{key}')\n",
    "    return set_evidences"
   ]
  },
  {
   "cell_type": "code",
   "execution_count": 11,
   "id": "bcc94093",
   "metadata": {},
   "outputs": [],
   "source": [
    "def obtain_conditions():\n",
    "    with open(\"huggingface_dataset/ddxplus/release_conditions.json\") as f:\n",
    "        release_conditions = json.load(f)\n",
    "    return [a for a in release_conditions.keys()]"
   ]
  },
  {
   "cell_type": "code",
   "execution_count": 12,
   "id": "0376de28",
   "metadata": {},
   "outputs": [],
   "source": [
    "features = ['AGE', 'SEX'] + obtain_evidences()\n",
    "labels = obtain_conditions()"
   ]
  },
  {
   "cell_type": "code",
   "execution_count": 13,
   "id": "b9835292",
   "metadata": {},
   "outputs": [],
   "source": [
    "X_train = df[features].values"
   ]
  },
  {
   "cell_type": "code",
   "execution_count": 14,
   "id": "0ffd3a3a",
   "metadata": {},
   "outputs": [],
   "source": [
    "Y_train = df[labels].values"
   ]
  },
  {
   "cell_type": "code",
   "execution_count": 15,
   "id": "261725ab",
   "metadata": {},
   "outputs": [
    {
     "name": "stdout",
     "output_type": "stream",
     "text": [
      "(134529, 974)\n",
      "(134529, 49)\n"
     ]
    }
   ],
   "source": [
    "print(X_train.shape)\n",
    "print(Y_train.shape)"
   ]
  },
  {
   "cell_type": "code",
   "execution_count": 16,
   "id": "67261761",
   "metadata": {},
   "outputs": [],
   "source": [
    "from tensorflow.keras import layers, models\n",
    "from tensorflow.keras import regularizers"
   ]
  },
  {
   "cell_type": "code",
   "execution_count": 17,
   "id": "0edb39aa",
   "metadata": {},
   "outputs": [
    {
     "name": "stdout",
     "output_type": "stream",
     "text": [
      "GPU găsit: /physical_device:GPU:0\n"
     ]
    }
   ],
   "source": [
    "gpus = tf.config.list_physical_devices('GPU')\n",
    "for gpu in gpus:\n",
    "    print(f\"GPU găsit: {gpu.name}\")"
   ]
  },
  {
   "cell_type": "code",
   "execution_count": 16,
   "id": "9e455313",
   "metadata": {},
   "outputs": [],
   "source": [
    "def elementwise_accuracy(y_true, y_pred, threshold=0.03):\n",
    "    diffs = tf.abs(y_true - y_pred)\n",
    "    all_close = tf.reduce_all(diffs <= threshold, axis=1)\n",
    "    return tf.reduce_mean(tf.cast(all_close, tf.float32))"
   ]
  },
  {
   "cell_type": "code",
   "execution_count": 17,
   "id": "93c398fc",
   "metadata": {},
   "outputs": [],
   "source": [
    "import tensorflow as tf\n",
    "\n",
    "def top3_tolerant_accuracy(y_true, y_pred):\n",
    "    top3_indices = tf.argsort(y_pred, direction='DESCENDING')[:, :3]\n",
    "    batch_size = tf.shape(y_pred)[0]\n",
    "\n",
    "    batch_indices = tf.range(batch_size)\n",
    "    batch_indices = tf.reshape(batch_indices, (-1, 1))\n",
    "    batch_indices = tf.tile(batch_indices, [1, 3])\n",
    "    indices = tf.stack([batch_indices, top3_indices], axis=2)\n",
    "\n",
    "    top3_true = tf.gather_nd(y_true, indices)\n",
    "    top3_pred = tf.gather_nd(y_pred, indices)\n",
    "\n",
    "    abs_diff = tf.abs(top3_true - top3_pred)\n",
    "    correct = tf.reduce_all(abs_diff <= 0.05001, axis=1)\n",
    "    return tf.reduce_mean(tf.cast(correct, tf.float32))"
   ]
  },
  {
   "cell_type": "code",
   "execution_count": 18,
   "id": "4189a930",
   "metadata": {},
   "outputs": [
    {
     "name": "stdout",
     "output_type": "stream",
     "text": [
      "tf.Tensor(0.5, shape=(), dtype=float32)\n"
     ]
    },
    {
     "name": "stderr",
     "output_type": "stream",
     "text": [
      "2025-04-07 17:57:36.750198: I metal_plugin/src/device/metal_device.cc:1154] Metal device set to: Apple M3 Max\n",
      "2025-04-07 17:57:36.750258: I metal_plugin/src/device/metal_device.cc:296] systemMemory: 64.00 GB\n",
      "2025-04-07 17:57:36.750267: I metal_plugin/src/device/metal_device.cc:313] maxCacheSize: 24.00 GB\n",
      "2025-04-07 17:57:36.750302: I tensorflow/core/common_runtime/pluggable_device/pluggable_device_factory.cc:305] Could not identify NUMA node of platform GPU ID 0, defaulting to 0. Your kernel may not have been built with NUMA support.\n",
      "2025-04-07 17:57:36.750324: I tensorflow/core/common_runtime/pluggable_device/pluggable_device_factory.cc:271] Created TensorFlow device (/job:localhost/replica:0/task:0/device:GPU:0 with 0 MB memory) -> physical PluggableDevice (device: 0, name: METAL, pci bus id: <undefined>)\n"
     ]
    }
   ],
   "source": [
    "y_true = tf.constant([\n",
    "    [0.0, 0.2, 0.6, 0.1, 0.1],\n",
    "    [0.7, 0.1, 0.1, 0.05, 0.05]\n",
    "], dtype=tf.float32)\n",
    "\n",
    "y_pred = tf.constant([\n",
    "    [0.05, 0.22, 0.5, 0.08, 0.07],\n",
    "    [0.75, 0.08, 0.08, 0.04, 0.05]\n",
    "], dtype=tf.float32)\n",
    "\n",
    "acc = top3_tolerant_accuracy(y_true, y_pred)\n",
    "print(acc)\n"
   ]
  },
  {
   "cell_type": "code",
   "execution_count": 18,
   "id": "24de3662",
   "metadata": {},
   "outputs": [
    {
     "name": "stderr",
     "output_type": "stream",
     "text": [
      "2025-04-07 18:39:05.963767: I metal_plugin/src/device/metal_device.cc:1154] Metal device set to: Apple M3 Max\n",
      "2025-04-07 18:39:05.963804: I metal_plugin/src/device/metal_device.cc:296] systemMemory: 64.00 GB\n",
      "2025-04-07 18:39:05.963811: I metal_plugin/src/device/metal_device.cc:313] maxCacheSize: 24.00 GB\n",
      "2025-04-07 18:39:05.963831: I tensorflow/core/common_runtime/pluggable_device/pluggable_device_factory.cc:305] Could not identify NUMA node of platform GPU ID 0, defaulting to 0. Your kernel may not have been built with NUMA support.\n",
      "2025-04-07 18:39:05.963849: I tensorflow/core/common_runtime/pluggable_device/pluggable_device_factory.cc:271] Created TensorFlow device (/job:localhost/replica:0/task:0/device:GPU:0 with 0 MB memory) -> physical PluggableDevice (device: 0, name: METAL, pci bus id: <undefined>)\n"
     ]
    }
   ],
   "source": [
    "input_dim = len(features)\n",
    "output_dim = len(labels)\n",
    "\n",
    "# model = models.Sequential([\n",
    "#     layers.Input(shape=(input_dim,), name='Input'),\n",
    "#     layers.Dense(512, activation='relu', \n",
    "#                  kernel_regularizer=regularizers.l2(0.01)),\n",
    "#     layers.Dropout(0.3),\n",
    "#     layers.Dense(256, activation='relu', \n",
    "#                  kernel_regularizer=regularizers.l2(0.01)),\n",
    "#     layers.Dropout(0.3),\n",
    "#     layers.Dense(128, activation='relu', \n",
    "#                  kernel_regularizer=regularizers.l2(0.01)),\n",
    "#     layers.Dense(output_dim, activation='softmax', name='Output')\n",
    "# ])\n",
    "\n",
    "model = models.Sequential([\n",
    "    layers.Input(shape=(input_dim,), name='Input'),\n",
    "    \n",
    "    # Straturi ascunse (de tip DNN)\n",
    "    layers.Dense(256, activation='relu'),\n",
    "    layers.BatchNormalization(),\n",
    "    layers.Dropout(0.3),\n",
    "\n",
    "    layers.Dense(128, activation='relu'),\n",
    "    layers.BatchNormalization(),\n",
    "    layers.Dropout(0.3),\n",
    "\n",
    "    layers.Dense(64, activation='relu'),\n",
    "    layers.BatchNormalization(),\n",
    "    layers.Dropout(0.3),\n",
    "\n",
    "    layers.Dense(32, activation='relu'),\n",
    "    layers.BatchNormalization(),\n",
    "    layers.Dropout(0.3),\n",
    "    \n",
    "    # Stratul de ieșire\n",
    "    layers.Dense(output_dim, activation='softmax', name='Output')\n",
    "])"
   ]
  },
  {
   "cell_type": "code",
   "execution_count": 24,
   "id": "2c271fe8",
   "metadata": {},
   "outputs": [],
   "source": [
    "def combined_loss(y_true, y_pred):\n",
    "    kl = tf.keras.losses.KLDivergence()(y_true, y_pred)\n",
    "    top3 = 1.0 - top3_tolerant_accuracy(y_true, y_pred)\n",
    "    return 0.999 * top3 + 0.0001 * kl"
   ]
  },
  {
   "cell_type": "code",
   "execution_count": 19,
   "id": "d53a5555",
   "metadata": {},
   "outputs": [],
   "source": [
    "from tensorflow.keras.losses import BinaryCrossentropy\n"
   ]
  },
  {
   "cell_type": "code",
   "execution_count": 20,
   "id": "6332e539",
   "metadata": {},
   "outputs": [],
   "source": [
    "model.compile(\n",
    "    optimizer=tf.keras.optimizers.Adam(learning_rate=1e-4),\n",
    "    loss=BinaryCrossentropy(), metrics=['accuracy']\n",
    ")"
   ]
  },
  {
   "cell_type": "code",
   "execution_count": 23,
   "id": "a06e733e",
   "metadata": {},
   "outputs": [
    {
     "name": "stdout",
     "output_type": "stream",
     "text": [
      "Epoch 1/10\n",
      "\u001b[1m4205/4205\u001b[0m \u001b[32m━━━━━━━━━━━━━━━━━━━━\u001b[0m\u001b[37m\u001b[0m \u001b[1m81s\u001b[0m 19ms/step - accuracy: 0.8208 - loss: 0.0391\n",
      "Epoch 2/10\n",
      "\u001b[1m4205/4205\u001b[0m \u001b[32m━━━━━━━━━━━━━━━━━━━━\u001b[0m\u001b[37m\u001b[0m \u001b[1m81s\u001b[0m 19ms/step - accuracy: 0.8413 - loss: 0.0369\n",
      "Epoch 3/10\n",
      "\u001b[1m4205/4205\u001b[0m \u001b[32m━━━━━━━━━━━━━━━━━━━━\u001b[0m\u001b[37m\u001b[0m \u001b[1m81s\u001b[0m 19ms/step - accuracy: 0.8529 - loss: 0.0352\n",
      "Epoch 4/10\n",
      "\u001b[1m4205/4205\u001b[0m \u001b[32m━━━━━━━━━━━━━━━━━━━━\u001b[0m\u001b[37m\u001b[0m \u001b[1m81s\u001b[0m 19ms/step - accuracy: 0.8632 - loss: 0.0338\n",
      "Epoch 5/10\n",
      "\u001b[1m4205/4205\u001b[0m \u001b[32m━━━━━━━━━━━━━━━━━━━━\u001b[0m\u001b[37m\u001b[0m \u001b[1m1163s\u001b[0m 277ms/step - accuracy: 0.8722 - loss: 0.0328\n",
      "Epoch 6/10\n",
      "\u001b[1m4205/4205\u001b[0m \u001b[32m━━━━━━━━━━━━━━━━━━━━\u001b[0m\u001b[37m\u001b[0m \u001b[1m81s\u001b[0m 19ms/step - accuracy: 0.8809 - loss: 0.0318\n",
      "Epoch 7/10\n",
      "\u001b[1m4205/4205\u001b[0m \u001b[32m━━━━━━━━━━━━━━━━━━━━\u001b[0m\u001b[37m\u001b[0m \u001b[1m81s\u001b[0m 19ms/step - accuracy: 0.8880 - loss: 0.0311\n",
      "Epoch 8/10\n",
      "\u001b[1m4205/4205\u001b[0m \u001b[32m━━━━━━━━━━━━━━━━━━━━\u001b[0m\u001b[37m\u001b[0m \u001b[1m80s\u001b[0m 19ms/step - accuracy: 0.8917 - loss: 0.0302\n",
      "Epoch 9/10\n",
      "\u001b[1m4205/4205\u001b[0m \u001b[32m━━━━━━━━━━━━━━━━━━━━\u001b[0m\u001b[37m\u001b[0m \u001b[1m79s\u001b[0m 19ms/step - accuracy: 0.8923 - loss: 0.0301\n",
      "Epoch 10/10\n",
      "\u001b[1m4205/4205\u001b[0m \u001b[32m━━━━━━━━━━━━━━━━━━━━\u001b[0m\u001b[37m\u001b[0m \u001b[1m79s\u001b[0m 19ms/step - accuracy: 0.8950 - loss: 0.0297\n"
     ]
    },
    {
     "data": {
      "text/plain": [
       "<keras.src.callbacks.history.History at 0x362261a60>"
      ]
     },
     "execution_count": 23,
     "metadata": {},
     "output_type": "execute_result"
    }
   ],
   "source": [
    "model.fit(\n",
    "    X_train, Y_train,\n",
    "    epochs=10,\n",
    "    batch_size=32\n",
    ")"
   ]
  },
  {
   "cell_type": "code",
   "execution_count": 25,
   "id": "bc8967d6",
   "metadata": {},
   "outputs": [
    {
     "data": {
      "text/plain": [
       "(134529, 974)"
      ]
     },
     "execution_count": 25,
     "metadata": {},
     "output_type": "execute_result"
    }
   ],
   "source": [
    "X_train.shape"
   ]
  },
  {
   "cell_type": "code",
   "execution_count": 26,
   "id": "98bdba67",
   "metadata": {},
   "outputs": [],
   "source": [
    "df_test = pd.read_csv(\"preprocessed_dataset/preprocessed_test_nondiff.csv\")"
   ]
  },
  {
   "cell_type": "code",
   "execution_count": 27,
   "id": "e0fe4d8f",
   "metadata": {},
   "outputs": [],
   "source": [
    "df_test['SEX'] = df_test['SEX'].map({'M': 1, 'F': 0})"
   ]
  },
  {
   "cell_type": "code",
   "execution_count": 30,
   "id": "43a798e2",
   "metadata": {},
   "outputs": [],
   "source": [
    "min_max_scaler = MinMaxScaler()\n",
    "df_test['AGE'] = min_max_scaler.fit_transform(df_test[['AGE']])"
   ]
  },
  {
   "cell_type": "code",
   "execution_count": 31,
   "id": "a3e911a6",
   "metadata": {},
   "outputs": [],
   "source": [
    "X_test = df_test[features].values\n",
    "Y_test = df_test[labels].values"
   ]
  },
  {
   "cell_type": "code",
   "execution_count": 32,
   "id": "eb686972",
   "metadata": {},
   "outputs": [
    {
     "name": "stdout",
     "output_type": "stream",
     "text": [
      "\u001b[1m8409/8409\u001b[0m \u001b[32m━━━━━━━━━━━━━━━━━━━━\u001b[0m\u001b[37m\u001b[0m \u001b[1m14s\u001b[0m 2ms/step\n"
     ]
    }
   ],
   "source": [
    "y_pred_proba = model.predict(X_test)\n",
    "\n",
    "y_pred = np.argmax(y_pred_proba, axis=1)\n",
    "\n",
    "y_true = np.argmax(Y_test, axis=1)"
   ]
  },
  {
   "cell_type": "code",
   "execution_count": null,
   "id": "8a594717",
   "metadata": {},
   "outputs": [
    {
     "name": "stdout",
     "output_type": "stream",
     "text": [
      "Accuracy: 0.9783\n",
      "F1-score: 0.9720\n",
      "Precision: 0.9833\n",
      "Recall: 0.9783\n"
     ]
    },
    {
     "name": "stderr",
     "output_type": "stream",
     "text": [
      "/Users/sebi/Desktop/licenta/MLTraining/tf_macos_venv/lib/python3.9/site-packages/sklearn/metrics/_classification.py:1565: UndefinedMetricWarning: Precision is ill-defined and being set to 0.0 in labels with no predicted samples. Use `zero_division` parameter to control this behavior.\n",
      "  _warn_prf(average, modifier, f\"{metric.capitalize()} is\", len(result))\n"
     ]
    }
   ],
   "source": [
    "from sklearn.metrics import accuracy_score, f1_score, precision_score, recall_score\n",
    "\n",
    "accuracy = accuracy_score(y_true, y_pred)\n",
    "f1 = f1_score(y_true, y_pred, average='weighted')\n",
    "precision = precision_score(y_true, y_pred, average='weighted')\n",
    "recall = recall_score(y_true, y_pred, average='weighted')\n",
    "\n",
    "print(f\"Accuracy: {accuracy:.4f}\")\n",
    "print(f\"F1-score: {f1:.4f}\")\n",
    "print(f\"Precision: {precision:.4f}\")\n",
    "print(f\"Recall: {recall:.4f}\")"
   ]
  },
  {
   "cell_type": "code",
   "execution_count": 35,
   "id": "c311d7f9",
   "metadata": {},
   "outputs": [],
   "source": [
    "model.save(\"saved_models/neural_network_98_accuracy.keras\")"
   ]
  },
  {
   "cell_type": "code",
   "execution_count": 8,
   "id": "ea0e7812",
   "metadata": {},
   "outputs": [
    {
     "name": "stdout",
     "output_type": "stream",
     "text": [
      "['.DS_Store', 'pathology_model.ipynb', 'preprocess_data.ipynb', 'huggingface_dataset', 'saved_models', 'plug_and_play_nn.ipynb', 'preprocessed_dataset']\n"
     ]
    }
   ],
   "source": [
    "import os\n",
    "import json\n",
    "print(os.listdir())\n",
    "\n",
    "with open(\"huggingface_dataset/ddxplus/release_evidences.json\", \"r\") as f:\n",
    "    code_and_question = json.load(f)"
   ]
  },
  {
   "cell_type": "code",
   "execution_count": 22,
   "id": "ab9a38fe",
   "metadata": {},
   "outputs": [
    {
     "name": "stdout",
     "output_type": "stream",
     "text": [
      "E_91 : Do you have a fever (either felt or measured with a thermometer)?\n",
      "E_55 : Do you feel pain somewhere?\n",
      "E_53 : Do you have pain somewhere, related to your reason for consulting?\n",
      "E_57 : Does the pain radiate to another location?\n",
      "E_54 : Characterize your pain:\n",
      "E_59 : How fast did the pain appear?\n",
      "E_56 : How intense is the pain?\n",
      "E_58 : How precisely is the pain located?\n",
      "E_159 : Did you lose consciousness?\n",
      "E_133 : Where is the affected region located?\n",
      "E_129 : Do you have any lesions, redness or problems on your skin that you believe are related to the condition you are consulting for?\n",
      "E_130 : What color is the rash?\n",
      "E_134 : How intense is the pain caused by the rash?\n",
      "E_132 : Is the rash swollen?\n",
      "E_136 : How severe is the itching?\n",
      "E_135 : Is the lesion (or are the lesions) larger than 1cm?\n",
      "E_131 : Do your lesions peel off?\n",
      "E_154 : Is your skin much paler than usual?\n",
      "E_155 : Do you feel your heart is beating fast (racing), irregularly (missing a beat) or do you feel palpitations?\n",
      "E_210 : Have you recently thrown up blood or something resembling coffee beans?\n",
      "E_140 : Have you recently had stools that were black (like coal)?\n",
      "E_51 : Have you had diarrhea or an increase in stool frequency?\n",
      "E_75 : Do you feel like you are (or were) choking or suffocating?\n",
      "E_89 : Do you constantly feel fatigued or do you have non-restful sleep?\n",
      "E_114 : Are you more irritable or has your mood been very unstable recently?\n",
      "E_82 : Do you feel lightheaded and dizzy or do you feel like you are about to faint?\n",
      "E_148 : Are you feeling nauseous or do you feel like vomiting?\n",
      "E_94 : Have you had chills or shivers?\n",
      "E_220 : Do you have pain that is increased when you breathe in deeply?\n",
      "E_161 : Have you recently had a loss of appetite or do you get full more quickly then usually?\n",
      "E_179 : Have you noticed light red blood or blood clots in your stool?\n",
      "E_162 : Have you had an involuntary weight loss over the last 3 months?\n",
      "E_173 : Do you have a burning sensation that starts in your stomach then goes up into your throat, and can be associated with a bitter taste in your mouth?\n",
      "E_33 : Do you have pain that improves when you lean forward?\n",
      "E_218 : Do you have symptoms that are increased with physical exertion but alleviated with rest?\n",
      "E_93 : Do you have numbness, loss of sensation or tingling in the feet?\n",
      "E_66 : Are you experiencing shortness of breath or difficulty breathing in a significant way?\n",
      "E_163 : Have you had any vaginal discharge?\n",
      "E_30 : Do you feel your abdomen is bloated or distended (swollen due to pressure from inside)?\n",
      "E_127 : Do you feel that your eyes produce excessive tears?\n",
      "E_181 : Do you have nasal congestion or a clear runny nose?\n",
      "E_88 : Do you feel so tired that you are unable to do your usual activities or are you stuck in your bed all day long?\n",
      "E_43 : Have you lost consciousness associated with violent and sustained muscle contractions or had an absence episode?\n",
      "E_156 : Have you had weakness or paralysis on one side of the face, which may still be present or completely resolved?\n",
      "E_144 : Do you have diffuse (widespread) muscle pain?\n",
      "E_216 : Do you have pain that is increased with movement?\n",
      "E_201 : Do you have a cough?\n",
      "E_217 : Are your symptoms worse when lying down and alleviated while sitting up?\n",
      "E_215 : Do you have symptoms that get worse after eating?\n",
      "E_64 : Do you feel out of breath with minimal physical effort?\n",
      "E_96 : Have you gained weight recently?\n",
      "E_16 : Do you feel anxious?\n",
      "E_50 : Have you had significantly increased sweating?\n",
      "E_97 : Do you have a sore throat?\n",
      "E_9 : Do you have swollen or painful lymph nodes?\n",
      "E_76 : Do you feel slightly dizzy or lightheaded?\n",
      "E_102 : Are you consulting because you have high blood pressure?\n",
      "E_65 : Do you have difficulty swallowing, or have a feeling of discomfort/blockage when swallowing?\n",
      "E_74 : Have you noticed a diffuse (widespread) redness in one or both eyes?\n",
      "E_205 : Do you suddenly have difficulty or an inability to open your mouth or have jaw pain when opening it?\n",
      "E_63 : Do you have difficulty articulating words/speaking?\n",
      "E_128 : Have you ever felt like you were suffocating for a very short time associated with inability to breathe or speak?\n",
      "E_190 : Have you noticed that you produce more saliva than usual?\n",
      "E_39 : Have you felt confused or disorientated lately?\n",
      "E_212 : Have you noticed that the tone of your voice has become deeper, softer or hoarse?\n",
      "E_206 : Do you have painful mouth ulcers or sores?\n",
      "E_52 : Do you have the perception of seeing two images of a single object seen overlapping or adjacent to each other (double vision)?\n",
      "E_203 : Do you have intense coughing fits?\n",
      "E_38 : Do you have pain or weakness in your jaw?\n",
      "E_172 : Do you have a hard time opening/raising one or both eyelids?\n",
      "E_84 : Do you feel weakness in both arms and/or both legs?\n",
      "E_90 : Do your symptoms of muscle weakness increase with fatigue and/or stress?\n",
      "E_211 : Have you vomited several times or have you made several efforts to vomit?\n",
      "E_166 : Did you vomit after coughing?\n",
      "E_112 : Do you wheeze while inhaling or is your breathing noisy after coughing spells?\n",
      "E_178 : Have you noticed any unusual bleeding or bruising related to your consultation today?\n",
      "E_152 : Where is the swelling located?\n",
      "E_151 : Do you have swelling in one or more areas of your body?\n",
      "E_45 : Have you been coughing up blood?\n",
      "E_194 : Have you noticed a high pitched sound when breathing in?\n",
      "E_83 : Have you noticed weakness in your facial muscles and/or eyes?\n",
      "E_157 : Have you recently had numbness, loss of sensation or tingling, in both arms and legs and around your mouth?\n",
      "E_176 : Did you previously, or do you currently, have any weakness/paralysis in one or more of your limbs or in your face?\n",
      "E_42 : Have you been in contact with or ate something that you have an allergy to?\n",
      "E_214 : Have you noticed a wheezing sound when you exhale?\n",
      "E_150 : Have you been able to pass stools or gas since your symptoms increased?\n",
      "E_32 : Do you have a decrease in appetite?\n",
      "E_221 : Are the symptoms or pain increased with coughing, with an effort like lifting a weight or from forcing a bowel movement?\n",
      "E_202 : Does the person have a whooping cough?\n",
      "E_219 : Are your symptoms more prominent at night?\n",
      "E_196 : Have you had surgery within the last month?\n",
      "E_170 : Do you have severe itching in one or both eyes?\n",
      "E_77 : Do you have a cough that produces colored or more abundant sputum than usual?\n",
      "E_13 : Do you find that your symptoms have worsened over the last 2 weeks and that progressively less effort is required to cause the symptoms?\n",
      "E_14 : Do you have chest pain even at rest?\n",
      "E_169 : Is your nose or the back of your throat itchy?\n",
      "E_177 : Do you currently, or did you ever, have numbness, loss of sensitivity or tingling anywhere on your body?\n",
      "E_175 : Have you noticed any new fatigue, generalized and vague discomfort, diffuse (widespread) muscle aches or a change in your general well-being related to your consultation today?\n",
      "E_174 : Have you been unintentionally losing weight or have you lost your appetite?\n",
      "E_145 : Do you have very abundant or very long menstruation periods?\n",
      "E_92 : Did your cheeks suddenly turn red?\n",
      "E_192 : Do you feel that muscle spasms or soreness in your neck are keeping you from turning your head to one side?\n",
      "E_188 : Do you have pale stools and dark urine?\n",
      "E_164 : Do you feel your heart is beating very irregularly or in a disorganized pattern?\n",
      "E_193 : Do you have annoying muscle spasms in your face, neck or any other part of your body?\n",
      "E_168 : Do you have trouble keeping your tongue in your mouth?\n",
      "E_180 : Are you unable to control the direction of your eyes?\n",
      "E_67 : Do you have bouts of choking or shortness of breath that wake you up at night?\n",
      "E_78 : Do you drink alcohol excessively or do you have an addiction to alcohol?\n",
      "E_146 : Are you taking any new oral anticoagulants ((NOACs)?\n",
      "E_171 : Do you feel like you are detached from your own body or your surroundings?\n",
      "E_111 : Do you feel like you are dying or were you afraid that you were about do die?\n",
      "E_182 : Do you have greenish or yellowish nasal discharge?\n",
      "E_103 : Have you lost your sense of smell?\n",
      "E_23 : Do you ever temporarily stop breathing while you’re asleep?\n",
      "E_105 : Have you ever had a heart attack or do you have angina (chest pain)?\n",
      "E_108 : Do you have a problem with poor circulation?\n",
      "E_104 : Do you have high blood pressure or do you take medications to treat high blood pressure?\n",
      "E_79 : Do you smoke cigarettes?\n",
      "E_71 : Do you have high cholesterol or do you take medications to treat high cholesterol?\n",
      "E_41 : Have you been in contact with a person with similar symptoms in the past 2 weeks?\n",
      "E_100 : Do you currently take hormones?\n",
      "E_69 : Do you have diabetes?\n",
      "E_167 : Do you think you are pregnant or are you currently pregnant?\n",
      "E_115 : Have you had unprotected sex with more than one partner in the last 6 months?\n",
      "E_70 : Are you significantly overweight compared to people of the same height as you?\n",
      "E_10 : Are you currently taking or have you recently taken anti-inflammatory drugs (NSAIDs)?\n",
      "E_165 : Have any of your family members ever had a pneumothorax?\n",
      "E_8 : Do you currently undergo dialysis?\n",
      "E_25 : Have any of your family members been diagnosed with cluster headaches?\n",
      "E_184 : Do you take medication that dilates your blood vessels?\n",
      "E_185 : Have you ever had a head trauma?\n",
      "E_99 : Have you ever had a migraine or is a member of your family known to have migraines?\n",
      "E_107 : Have you ever had a stroke?\n",
      "E_226 : Are you more likely to develop common allergies than the general population?\n",
      "E_62 : Do you regularly take stimulant drugs?\n",
      "E_49 : Do you attend or work in a daycare?\n",
      "E_95 : Do you have Parkinson’s disease?\n",
      "E_204 : Have you traveled out of the country in the last 4 weeks?\n",
      "E_37 : Do you have metastatic cancer?\n",
      "E_153 : Are you being treated for osteoporosis?\n",
      "E_124 : Do you have asthma or have you ever had to use a bronchodilator in the past?\n",
      "E_98 : Do you have a hiatal hernia?\n",
      "E_116 : Have you had a cold in the last 2 weeks?\n",
      "E_48 : Do you live with 4 or more people?\n",
      "E_2 : Are you infected with the human immunodeficiency virus (HIV)?\n",
      "E_227 : Are you immunosuppressed?\n",
      "E_61 : Are you currently using intravenous drugs?\n",
      "E_47 : Do you suffer from Crohn’s disease or ulcerative colitis (UC)?\n",
      "E_27 : Have you ever had a sexually transmitted infection?\n",
      "E_143 : Do you exercise regularly, 4 times per week or more?\n",
      "E_191 : Are you a former smoker?\n",
      "E_208 : Is your BMI less than 18.5, or are you underweight?\n",
      "E_126 : Do you have liver cirrhosis?\n",
      "E_189 : Have you had sexual intercourse with an HIV-positive partner in the past 12 months?\n",
      "E_7 : Do you have a poor diet?\n",
      "E_24 : Have you ever had a diagnosis of anemia?\n",
      "E_26 : Do you have any family members who have been diagnosed with anemia?\n",
      "E_113 : Do you have chronic kidney failure?\n",
      "E_160 : Were you born prematurely or did you suffer any complication at birth?\n",
      "E_28 : Are there any members of your family who have been diagnosed myasthenia gravis?\n",
      "E_20 : Do you have Rheumatoid Arthritis?\n",
      "E_80 : Have you ever been diagnosed with depression?\n",
      "E_40 : Have you been in contact with someone who has had pertussis (whoooping cough)?\n",
      "E_0 : Have you recently had a viral infection?\n",
      "E_1 : Are you currently being treated or have you recently been treated with an oral antibiotic for an ear infection?\n",
      "E_34 : Do you have an active cancer?\n",
      "E_209 : Are your vaccinations up to date?\n",
      "E_139 : Do you have a known heart defect?\n",
      "E_19 : Have you been diagnosed with hyperthyroidism?\n",
      "E_31 : Do you have severe Chronic Obstructive Pulmonary Disease (COPD)?\n",
      "E_22 : Do you have a known issue with one of your heart valves?\n",
      "E_60 : Do you consume energy drinks regularly?\n",
      "E_35 : Do you regularly drink coffee or tea?\n",
      "E_213 : Have you recently taken decongestants or other substances that may have stimulant effects?\n",
      "E_12 : Do you have a known severe food allergy?\n",
      "E_44 : Do you take corticosteroids?\n",
      "E_4 : Have you or any member of your family ever had croup?\n",
      "E_81 : Do you suffer from chronic anxiety?\n",
      "E_109 : Have you ever had deep vein thrombosis (DVT)?\n",
      "E_110 : Have you been unable to move or get up for more than 3 consecutive days within the last 4 weeks?\n",
      "E_17 : Are you of Asian descent?\n",
      "E_18 : Do you have cystic fibrosis?\n",
      "E_118 : Have you ever had pneumonia?\n",
      "E_123 : Do you have a chronic obstructive pulmonary disease (COPD)?\n",
      "E_207 : Do you live in in a big city?\n",
      "E_86 : Do you have any close family members who suffer from allergies (any type), hay fever or eczema?\n",
      "E_87 : Do you have any family members who have asthma?\n",
      "E_141 : Did you have your first menstrual period before the age of 12?\n",
      "E_11 : Have you breastfed one of your children for more than 9 months?\n",
      "E_186 : Have you ever been diagnosed with obstructive sleep apnea (OSA)?\n",
      "E_106 : Do you have heart failure?\n",
      "E_158 : Were you diagnosed with endocrine disease or a hormone dysfunction?\n",
      "E_187 : Did you eat dark-fleshed fish (such as tuna) or Swiss cheese before the reaction occurred?\n",
      "E_6 : Do you have chronic pancreatitis?\n",
      "E_125 : Have you ever been diagnosed with gastroesophageal reflux?\n",
      "E_21 : Have you ever had a spontaneous pneumothorax?\n",
      "E_222 : Are you exposed to secondhand cigarette smoke on a daily basis?\n",
      "E_15 : Have you started or taken any antipsychotic medication within the last 7 days?\n",
      "E_147 : Have you been treated in hospital recently for nausea, agitation, intoxication or aggressive behavior and received medication via an intravenous or intramuscular route?\n",
      "E_137 : Have you ever had surgery to remove lymph nodes?\n",
      "E_149 : Do you take a calcium channel blockers (medication)?\n",
      "E_197 : Do you have a known kidney problem resulting in an inability to retain proteins?\n",
      "E_3 : Have you ever had a pericarditis?\n",
      "E_29 : Do any members of your immediate family have a psychiatric illness?\n",
      "E_225 : Do you have close family members who had a cardiovascular disease problem before the age of 50?\n",
      "E_73 : In the last month, have you been in contact with anyone infected with the Ebola virus?\n",
      "E_138 : Do you suffer from fibromyalgia?\n",
      "E_101 : Have you been hospitalized for an asthma attack in the past year?\n",
      "E_46 : Have you had 2 or more asthma attacks in the past year?\n",
      "E_119 : Have you been diagnosed with chronic sinusitis?\n",
      "E_72 : Have you had one or several flare ups of chronic obstructive pulmonary disease (COPD) in the past year?\n",
      "E_198 : Do you work in agriculture?\n",
      "E_200 : Do you work in the mining sector?\n",
      "E_199 : Do you work in construction?\n",
      "E_121 : Do you have a deviated nasal septum?\n",
      "E_120 : Do you have polyps in your nose?\n",
      "E_142 : Does your mother suffer from asthma?\n",
      "E_195 : Do you live in the suburbs?\n",
      "E_183 : Do you live in a rural area?\n",
      "E_224 : Do you have family members who have had lung cancer?\n",
      "E_223 : Are there members of your family who have been diagnosed with pancreatic cancer?\n",
      "E_5 : Have you ever had fluid in your lungs?\n"
     ]
    }
   ],
   "source": [
    "for key, value in code_and_question.items():\n",
    "    print(f\"{key} : {value['question_en']}\")"
   ]
  }
 ],
 "metadata": {
  "kernelspec": {
   "display_name": "tf_macos_venv",
   "language": "python",
   "name": "python3"
  },
  "language_info": {
   "codemirror_mode": {
    "name": "ipython",
    "version": 3
   },
   "file_extension": ".py",
   "mimetype": "text/x-python",
   "name": "python",
   "nbconvert_exporter": "python",
   "pygments_lexer": "ipython3",
   "version": "3.9.21"
  }
 },
 "nbformat": 4,
 "nbformat_minor": 5
}
