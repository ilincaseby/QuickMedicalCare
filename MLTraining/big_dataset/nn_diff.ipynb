{
 "cells": [
  {
   "cell_type": "code",
   "execution_count": null,
   "id": "60594807",
   "metadata": {},
   "outputs": [],
   "source": [
    "import pandas as pd\n",
    "import numpy as np\n",
    "from sklearn.preprocessing import MinMaxScaler\n",
    "import json\n",
    "import tensorflow as tf\n",
    "from tensorflow.keras import layers, models\n",
    "from tensorflow.keras import regularizers"
   ]
  },
  {
   "cell_type": "code",
   "execution_count": 5,
   "id": "ba3fa41c",
   "metadata": {},
   "outputs": [],
   "source": [
    "df = pd.read_csv(\"preprocessed_dataset/preprocessed_train.csv\")"
   ]
  },
  {
   "cell_type": "code",
   "execution_count": 6,
   "id": "2d2de67d",
   "metadata": {},
   "outputs": [],
   "source": [
    "df['SEX'] = df['SEX'].map({'M': 1, 'F': 0})"
   ]
  },
  {
   "cell_type": "code",
   "execution_count": 7,
   "id": "c7cd2d8c",
   "metadata": {},
   "outputs": [],
   "source": [
    "min_max_scaler = MinMaxScaler()\n",
    "df['AGE'] = min_max_scaler.fit_transform(df[['AGE']])"
   ]
  },
  {
   "cell_type": "code",
   "execution_count": 9,
   "id": "5b8bfb5a",
   "metadata": {},
   "outputs": [],
   "source": [
    "def obtain_evidences():\n",
    "    with open(\"huggingface_dataset/ddxplus/release_evidences.json\", \"r\") as f:\n",
    "        release_evidences = json.load(f)\n",
    "    set_evidences = []\n",
    "    for key, value in release_evidences.items():\n",
    "        if len(value['possible-values']) > 0:\n",
    "            for val in value['possible-values']:\n",
    "                set_evidences.append(f'{key}_@_{val}')\n",
    "        else:\n",
    "            set_evidences.append(f'{key}')\n",
    "    return set_evidences"
   ]
  },
  {
   "cell_type": "code",
   "execution_count": 10,
   "id": "bcc94093",
   "metadata": {},
   "outputs": [],
   "source": [
    "def obtain_conditions():\n",
    "    with open(\"huggingface_dataset/ddxplus/release_conditions.json\") as f:\n",
    "        release_conditions = json.load(f)\n",
    "    return [a for a in release_conditions.keys()]"
   ]
  },
  {
   "cell_type": "code",
   "execution_count": 11,
   "id": "0376de28",
   "metadata": {},
   "outputs": [],
   "source": [
    "features = ['AGE', 'SEX'] + obtain_evidences()\n",
    "labels = obtain_conditions()"
   ]
  },
  {
   "cell_type": "code",
   "execution_count": null,
   "id": "b9835292",
   "metadata": {},
   "outputs": [],
   "source": [
    "X_train = df[features].values\n",
    "Y_train = df[labels].values"
   ]
  },
  {
   "cell_type": "code",
   "execution_count": 16,
   "id": "9e455313",
   "metadata": {},
   "outputs": [],
   "source": [
    "def elementwise_accuracy(y_true, y_pred, threshold=0.03):\n",
    "    diffs = tf.abs(y_true - y_pred)\n",
    "    all_close = tf.reduce_all(diffs <= threshold, axis=1)\n",
    "    return tf.reduce_mean(tf.cast(all_close, tf.float32))"
   ]
  },
  {
   "cell_type": "code",
   "execution_count": null,
   "id": "93c398fc",
   "metadata": {},
   "outputs": [],
   "source": [
    "\n",
    "\n",
    "def top3_tolerant_accuracy(y_true, y_pred):\n",
    "    top3_indices = tf.argsort(y_pred, direction='DESCENDING')[:, :3]\n",
    "    batch_size = tf.shape(y_pred)[0]\n",
    "\n",
    "    batch_indices = tf.range(batch_size)\n",
    "    batch_indices = tf.reshape(batch_indices, (-1, 1))\n",
    "    batch_indices = tf.tile(batch_indices, [1, 3])\n",
    "    indices = tf.stack([batch_indices, top3_indices], axis=2)\n",
    "\n",
    "    top3_true = tf.gather_nd(y_true, indices)\n",
    "    top3_pred = tf.gather_nd(y_pred, indices)\n",
    "\n",
    "    abs_diff = tf.abs(top3_true - top3_pred)\n",
    "    correct = tf.reduce_all(abs_diff <= 0.05001, axis=1)\n",
    "    return tf.reduce_mean(tf.cast(correct, tf.float32))"
   ]
  },
  {
   "cell_type": "code",
   "execution_count": 24,
   "id": "2c271fe8",
   "metadata": {},
   "outputs": [],
   "source": [
    "def combined_loss(y_true, y_pred):\n",
    "    kl = tf.keras.losses.KLDivergence()(y_true, y_pred)\n",
    "    top3 = 1.0 - top3_tolerant_accuracy(y_true, y_pred)\n",
    "    return 0.999 * top3 + 0.0001 * kl"
   ]
  },
  {
   "cell_type": "code",
   "execution_count": null,
   "id": "24de3662",
   "metadata": {},
   "outputs": [],
   "source": [
    "input_dim = len(features)\n",
    "output_dim = len(labels)\n",
    "\n",
    "model = models.Sequential([\n",
    "    layers.Input(shape=(input_dim,), name='Input'),\n",
    "    \n",
    "    layers.Dense(256, activation='relu'),\n",
    "    layers.BatchNormalization(),\n",
    "    layers.Dropout(0.3),\n",
    "\n",
    "    layers.Dense(128, activation='relu'),\n",
    "    layers.BatchNormalization(),\n",
    "    layers.Dropout(0.3),\n",
    "\n",
    "    layers.Dense(64, activation='relu'),\n",
    "    layers.BatchNormalization(),\n",
    "    layers.Dropout(0.3),\n",
    "\n",
    "    layers.Dense(32, activation='relu'),\n",
    "    layers.BatchNormalization(),\n",
    "    layers.Dropout(0.3),\n",
    "    \n",
    "    layers.Dense(output_dim, activation='softmax', name='Output')\n",
    "])"
   ]
  },
  {
   "cell_type": "code",
   "execution_count": 25,
   "id": "6332e539",
   "metadata": {},
   "outputs": [],
   "source": [
    "model.compile(\n",
    "    optimizer=tf.keras.optimizers.Adam(learning_rate=1e-4),\n",
    "    loss=tf.keras.losses.KLDivergence(),\n",
    "    metrics=[\n",
    "        elementwise_accuracy,\n",
    "        top3_tolerant_accuracy\n",
    "    ]\n",
    ")"
   ]
  },
  {
   "cell_type": "code",
   "execution_count": 26,
   "id": "a06e733e",
   "metadata": {},
   "outputs": [
    {
     "name": "stdout",
     "output_type": "stream",
     "text": [
      "Epoch 1/10\n",
      "\u001b[1m2004/2004\u001b[0m \u001b[32m━━━━━━━━━━━━━━━━━━━━\u001b[0m\u001b[37m\u001b[0m \u001b[1m44s\u001b[0m 21ms/step - elementwise_accuracy: 3.9302e-05 - loss: 1.6035 - top3_tolerant_accuracy: 0.0708\n",
      "Epoch 2/10\n",
      "\u001b[1m2004/2004\u001b[0m \u001b[32m━━━━━━━━━━━━━━━━━━━━\u001b[0m\u001b[37m\u001b[0m \u001b[1m43s\u001b[0m 21ms/step - elementwise_accuracy: 2.8909e-04 - loss: 0.9331 - top3_tolerant_accuracy: 0.1030\n",
      "Epoch 3/10\n",
      "\u001b[1m2004/2004\u001b[0m \u001b[32m━━━━━━━━━━━━━━━━━━━━\u001b[0m\u001b[37m\u001b[0m \u001b[1m43s\u001b[0m 21ms/step - elementwise_accuracy: 7.2923e-04 - loss: 0.8566 - top3_tolerant_accuracy: 0.1149\n",
      "Epoch 4/10\n",
      "\u001b[1m2004/2004\u001b[0m \u001b[32m━━━━━━━━━━━━━━━━━━━━\u001b[0m\u001b[37m\u001b[0m \u001b[1m43s\u001b[0m 22ms/step - elementwise_accuracy: 0.0011 - loss: 0.8298 - top3_tolerant_accuracy: 0.1218\n",
      "Epoch 5/10\n",
      "\u001b[1m2004/2004\u001b[0m \u001b[32m━━━━━━━━━━━━━━━━━━━━\u001b[0m\u001b[37m\u001b[0m \u001b[1m43s\u001b[0m 21ms/step - elementwise_accuracy: 0.0012 - loss: 0.8217 - top3_tolerant_accuracy: 0.1241\n",
      "Epoch 6/10\n",
      "\u001b[1m2004/2004\u001b[0m \u001b[32m━━━━━━━━━━━━━━━━━━━━\u001b[0m\u001b[37m\u001b[0m \u001b[1m43s\u001b[0m 21ms/step - elementwise_accuracy: 0.0016 - loss: 0.8187 - top3_tolerant_accuracy: 0.1255\n",
      "Epoch 7/10\n",
      "\u001b[1m2004/2004\u001b[0m \u001b[32m━━━━━━━━━━━━━━━━━━━━\u001b[0m\u001b[37m\u001b[0m \u001b[1m43s\u001b[0m 21ms/step - elementwise_accuracy: 0.0016 - loss: 0.8175 - top3_tolerant_accuracy: 0.1252\n",
      "Epoch 8/10\n",
      "\u001b[1m2004/2004\u001b[0m \u001b[32m━━━━━━━━━━━━━━━━━━━━\u001b[0m\u001b[37m\u001b[0m \u001b[1m43s\u001b[0m 21ms/step - elementwise_accuracy: 0.0018 - loss: 0.8147 - top3_tolerant_accuracy: 0.1258\n",
      "Epoch 9/10\n",
      "\u001b[1m2004/2004\u001b[0m \u001b[32m━━━━━━━━━━━━━━━━━━━━\u001b[0m\u001b[37m\u001b[0m \u001b[1m43s\u001b[0m 21ms/step - elementwise_accuracy: 0.0017 - loss: 0.8147 - top3_tolerant_accuracy: 0.1255\n",
      "Epoch 10/10\n",
      "\u001b[1m2004/2004\u001b[0m \u001b[32m━━━━━━━━━━━━━━━━━━━━\u001b[0m\u001b[37m\u001b[0m \u001b[1m44s\u001b[0m 22ms/step - elementwise_accuracy: 0.0018 - loss: 0.8149 - top3_tolerant_accuracy: 0.1245\n"
     ]
    },
    {
     "data": {
      "text/plain": [
       "<keras.src.callbacks.history.History at 0x3b65c2430>"
      ]
     },
     "execution_count": 26,
     "metadata": {},
     "output_type": "execute_result"
    }
   ],
   "source": [
    "model.fit(\n",
    "    X_train, Y_train,\n",
    "    epochs=10,\n",
    "    batch_size=512\n",
    ")"
   ]
  }
 ],
 "metadata": {
  "kernelspec": {
   "display_name": "tf_macos_venv",
   "language": "python",
   "name": "python3"
  },
  "language_info": {
   "codemirror_mode": {
    "name": "ipython",
    "version": 3
   },
   "file_extension": ".py",
   "mimetype": "text/x-python",
   "name": "python",
   "nbconvert_exporter": "python",
   "pygments_lexer": "ipython3",
   "version": "3.9.21"
  }
 },
 "nbformat": 4,
 "nbformat_minor": 5
}
