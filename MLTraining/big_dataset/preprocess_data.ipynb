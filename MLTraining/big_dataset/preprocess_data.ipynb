{
 "cells": [
  {
   "cell_type": "code",
   "execution_count": 31,
   "id": "4797c284",
   "metadata": {},
   "outputs": [],
   "source": [
    "import pandas as pd\n",
    "import json\n",
    "import numpy\n",
    "import os"
   ]
  },
  {
   "cell_type": "code",
   "execution_count": 32,
   "id": "ea316587",
   "metadata": {},
   "outputs": [
    {
     "data": {
      "text/plain": [
       "['.DS_Store',\n",
       " 'preprocess_data.ipynb',\n",
       " 'huggingface_dataset',\n",
       " 'ss.zip',\n",
       " 'plug_and_play_nn.ipynb',\n",
       " 'preprocessed_dataset']"
      ]
     },
     "execution_count": 32,
     "metadata": {},
     "output_type": "execute_result"
    }
   ],
   "source": [
    "os.listdir()"
   ]
  },
  {
   "cell_type": "code",
   "execution_count": 33,
   "id": "2cbbdb78",
   "metadata": {},
   "outputs": [],
   "source": [
    "with open(\"huggingface_dataset/ddxplus/release_evidences.json\", \"r\") as f:\n",
    "    release_evidences = json.load(f)"
   ]
  },
  {
   "cell_type": "code",
   "execution_count": 34,
   "id": "791e2f46",
   "metadata": {},
   "outputs": [],
   "source": [
    "with open(\"huggingface_dataset/ddxplus/release_conditions.json\") as f:\n",
    "    release_conditions = json.load(f)"
   ]
  },
  {
   "cell_type": "code",
   "execution_count": 35,
   "id": "96be71d1",
   "metadata": {},
   "outputs": [],
   "source": [
    "set_conditions = [a for a in release_conditions.keys()]\n"
   ]
  },
  {
   "cell_type": "code",
   "execution_count": 36,
   "id": "3a564ef5",
   "metadata": {},
   "outputs": [
    {
     "data": {
      "text/plain": [
       "['Spontaneous pneumothorax',\n",
       " 'Cluster headache',\n",
       " 'Boerhaave',\n",
       " 'Spontaneous rib fracture',\n",
       " 'GERD',\n",
       " 'HIV (initial infection)',\n",
       " 'Anemia',\n",
       " 'Viral pharyngitis',\n",
       " 'Inguinal hernia',\n",
       " 'Myasthenia gravis',\n",
       " 'Whooping cough',\n",
       " 'Anaphylaxis',\n",
       " 'Epiglottitis',\n",
       " 'Guillain-Barré syndrome',\n",
       " 'Acute laryngitis',\n",
       " 'Croup',\n",
       " 'PSVT',\n",
       " 'Atrial fibrillation',\n",
       " 'Bronchiectasis',\n",
       " 'Allergic sinusitis',\n",
       " 'Chagas',\n",
       " 'Scombroid food poisoning',\n",
       " 'Myocarditis',\n",
       " 'Larygospasm',\n",
       " 'Acute dystonic reactions',\n",
       " 'Localized edema',\n",
       " 'SLE',\n",
       " 'Tuberculosis',\n",
       " 'Unstable angina',\n",
       " 'Stable angina',\n",
       " 'Ebola',\n",
       " 'Acute otitis media',\n",
       " 'Panic attack',\n",
       " 'Bronchospasm / acute asthma exacerbation',\n",
       " 'Bronchitis',\n",
       " 'Acute COPD exacerbation / infection',\n",
       " 'Pulmonary embolism',\n",
       " 'URTI',\n",
       " 'Influenza',\n",
       " 'Pneumonia',\n",
       " 'Acute rhinosinusitis',\n",
       " 'Chronic rhinosinusitis',\n",
       " 'Bronchiolitis',\n",
       " 'Pulmonary neoplasm',\n",
       " 'Possible NSTEMI / STEMI',\n",
       " 'Sarcoidosis',\n",
       " 'Pancreatic neoplasm',\n",
       " 'Acute pulmonary edema',\n",
       " 'Pericarditis']"
      ]
     },
     "execution_count": 36,
     "metadata": {},
     "output_type": "execute_result"
    }
   ],
   "source": [
    "set_conditions"
   ]
  },
  {
   "cell_type": "code",
   "execution_count": 37,
   "id": "92243946",
   "metadata": {},
   "outputs": [],
   "source": [
    "set_evidences = []"
   ]
  },
  {
   "cell_type": "code",
   "execution_count": 38,
   "id": "7f8e8e2c",
   "metadata": {},
   "outputs": [],
   "source": [
    "for key, value in release_evidences.items():\n",
    "    if len(value['possible-values']) > 0:\n",
    "        for val in value['possible-values']:\n",
    "            set_evidences.append(f'{key}_@_{val}')\n",
    "    else:\n",
    "        set_evidences.append(f'{key}')"
   ]
  },
  {
   "cell_type": "code",
   "execution_count": 39,
   "id": "3ae79e5b",
   "metadata": {},
   "outputs": [
    {
     "name": "stdout",
     "output_type": "stream",
     "text": [
      "972\n",
      "['E_91', 'E_55_@_V_123', 'E_55_@_V_14', 'E_55_@_V_15', 'E_55_@_V_16', 'E_55_@_V_17', 'E_55_@_V_18', 'E_55_@_V_19', 'E_55_@_V_20', 'E_55_@_V_21', 'E_55_@_V_22', 'E_55_@_V_23', 'E_55_@_V_24', 'E_55_@_V_25', 'E_55_@_V_26', 'E_55_@_V_27', 'E_55_@_V_28', 'E_55_@_V_29', 'E_55_@_V_30', 'E_55_@_V_31', 'E_55_@_V_32', 'E_55_@_V_33', 'E_55_@_V_34', 'E_55_@_V_35', 'E_55_@_V_36', 'E_55_@_V_37', 'E_55_@_V_38', 'E_55_@_V_39', 'E_55_@_V_40', 'E_55_@_V_41', 'E_55_@_V_42', 'E_55_@_V_43', 'E_55_@_V_44', 'E_55_@_V_45', 'E_55_@_V_46', 'E_55_@_V_47', 'E_55_@_V_48', 'E_55_@_V_49', 'E_55_@_V_50', 'E_55_@_V_51', 'E_55_@_V_52', 'E_55_@_V_53', 'E_55_@_V_54', 'E_55_@_V_55', 'E_55_@_V_56', 'E_55_@_V_57', 'E_55_@_V_58', 'E_55_@_V_59', 'E_55_@_V_60', 'E_55_@_V_61', 'E_55_@_V_62', 'E_55_@_V_63', 'E_55_@_V_64', 'E_55_@_V_65', 'E_55_@_V_66', 'E_55_@_V_67', 'E_55_@_V_68', 'E_55_@_V_69', 'E_55_@_V_70', 'E_55_@_V_72', 'E_55_@_V_73', 'E_55_@_V_74', 'E_55_@_V_75', 'E_55_@_V_76', 'E_55_@_V_77', 'E_55_@_V_78', 'E_55_@_V_79', 'E_55_@_V_80', 'E_55_@_V_81', 'E_55_@_V_82', 'E_55_@_V_83', 'E_55_@_V_84', 'E_55_@_V_85', 'E_55_@_V_87', 'E_55_@_V_88', 'E_55_@_V_89', 'E_55_@_V_90', 'E_55_@_V_91', 'E_55_@_V_92', 'E_55_@_V_93', 'E_55_@_V_94', 'E_55_@_V_95', 'E_55_@_V_96', 'E_55_@_V_97', 'E_55_@_V_98', 'E_55_@_V_99', 'E_55_@_V_100', 'E_55_@_V_101', 'E_55_@_V_102', 'E_55_@_V_103', 'E_55_@_V_104', 'E_55_@_V_105', 'E_55_@_V_106', 'E_55_@_V_108', 'E_55_@_V_109', 'E_55_@_V_110', 'E_55_@_V_111', 'E_55_@_V_113', 'E_55_@_V_114', 'E_55_@_V_115', 'E_55_@_V_116', 'E_55_@_V_117', 'E_55_@_V_118', 'E_55_@_V_119', 'E_55_@_V_120', 'E_55_@_V_121', 'E_55_@_V_122', 'E_55_@_V_124', 'E_55_@_V_125', 'E_55_@_V_126', 'E_55_@_V_127', 'E_55_@_V_128', 'E_55_@_V_129', 'E_55_@_V_130', 'E_55_@_V_131', 'E_55_@_V_132', 'E_55_@_V_133', 'E_55_@_V_134', 'E_55_@_V_135', 'E_55_@_V_136', 'E_55_@_V_137', 'E_55_@_V_139', 'E_55_@_V_140', 'E_55_@_V_141', 'E_55_@_V_142', 'E_55_@_V_143', 'E_55_@_V_144', 'E_55_@_V_145', 'E_55_@_V_146', 'E_55_@_V_147', 'E_55_@_V_148', 'E_55_@_V_149', 'E_55_@_V_150', 'E_55_@_V_151', 'E_55_@_V_152', 'E_55_@_V_153', 'E_55_@_V_155', 'E_55_@_V_158', 'E_55_@_V_159', 'E_55_@_V_160', 'E_55_@_V_162', 'E_55_@_V_163', 'E_55_@_V_164', 'E_55_@_V_165', 'E_55_@_V_166', 'E_55_@_V_167', 'E_55_@_V_168', 'E_55_@_V_169', 'E_55_@_V_170', 'E_55_@_V_171', 'E_55_@_V_172', 'E_55_@_V_173', 'E_55_@_V_174', 'E_55_@_V_175', 'E_55_@_V_176', 'E_55_@_V_177', 'E_55_@_V_178', 'E_55_@_V_185', 'E_55_@_V_186', 'E_55_@_V_187', 'E_55_@_V_188', 'E_55_@_V_189', 'E_55_@_V_190', 'E_55_@_V_194', 'E_55_@_V_195', 'E_55_@_V_197', 'E_53', 'E_57_@_V_123', 'E_57_@_V_14', 'E_57_@_V_15', 'E_57_@_V_16', 'E_57_@_V_17', 'E_57_@_V_18', 'E_57_@_V_19', 'E_57_@_V_20', 'E_57_@_V_21', 'E_57_@_V_22', 'E_57_@_V_23', 'E_57_@_V_24', 'E_57_@_V_25', 'E_57_@_V_26', 'E_57_@_V_27', 'E_57_@_V_28', 'E_57_@_V_29', 'E_57_@_V_30', 'E_57_@_V_31', 'E_57_@_V_32', 'E_57_@_V_33', 'E_57_@_V_34', 'E_57_@_V_35', 'E_57_@_V_36', 'E_57_@_V_37', 'E_57_@_V_38', 'E_57_@_V_39', 'E_57_@_V_40', 'E_57_@_V_41', 'E_57_@_V_42', 'E_57_@_V_43', 'E_57_@_V_44', 'E_57_@_V_45', 'E_57_@_V_46', 'E_57_@_V_47', 'E_57_@_V_48', 'E_57_@_V_49', 'E_57_@_V_50', 'E_57_@_V_51', 'E_57_@_V_52', 'E_57_@_V_53', 'E_57_@_V_54', 'E_57_@_V_55', 'E_57_@_V_56', 'E_57_@_V_57', 'E_57_@_V_58', 'E_57_@_V_59', 'E_57_@_V_60', 'E_57_@_V_61', 'E_57_@_V_62', 'E_57_@_V_63', 'E_57_@_V_64', 'E_57_@_V_65', 'E_57_@_V_66', 'E_57_@_V_67', 'E_57_@_V_68', 'E_57_@_V_69', 'E_57_@_V_70', 'E_57_@_V_72', 'E_57_@_V_73', 'E_57_@_V_74', 'E_57_@_V_75', 'E_57_@_V_76', 'E_57_@_V_77', 'E_57_@_V_78', 'E_57_@_V_79', 'E_57_@_V_80', 'E_57_@_V_81', 'E_57_@_V_82', 'E_57_@_V_83', 'E_57_@_V_84', 'E_57_@_V_85', 'E_57_@_V_87', 'E_57_@_V_88', 'E_57_@_V_89', 'E_57_@_V_90', 'E_57_@_V_91', 'E_57_@_V_92', 'E_57_@_V_93', 'E_57_@_V_94', 'E_57_@_V_95', 'E_57_@_V_96', 'E_57_@_V_97', 'E_57_@_V_98', 'E_57_@_V_99', 'E_57_@_V_100', 'E_57_@_V_101', 'E_57_@_V_102', 'E_57_@_V_103', 'E_57_@_V_104', 'E_57_@_V_105', 'E_57_@_V_106', 'E_57_@_V_108', 'E_57_@_V_109', 'E_57_@_V_110', 'E_57_@_V_111', 'E_57_@_V_113', 'E_57_@_V_114', 'E_57_@_V_115', 'E_57_@_V_116', 'E_57_@_V_117', 'E_57_@_V_118', 'E_57_@_V_119', 'E_57_@_V_120', 'E_57_@_V_121', 'E_57_@_V_122', 'E_57_@_V_124', 'E_57_@_V_125', 'E_57_@_V_126', 'E_57_@_V_127', 'E_57_@_V_128', 'E_57_@_V_129', 'E_57_@_V_130', 'E_57_@_V_131', 'E_57_@_V_132', 'E_57_@_V_133', 'E_57_@_V_134', 'E_57_@_V_135', 'E_57_@_V_136', 'E_57_@_V_137', 'E_57_@_V_139', 'E_57_@_V_140', 'E_57_@_V_141', 'E_57_@_V_142', 'E_57_@_V_143', 'E_57_@_V_144', 'E_57_@_V_145', 'E_57_@_V_146', 'E_57_@_V_147', 'E_57_@_V_148', 'E_57_@_V_149', 'E_57_@_V_150', 'E_57_@_V_151', 'E_57_@_V_152', 'E_57_@_V_153', 'E_57_@_V_155', 'E_57_@_V_158', 'E_57_@_V_159', 'E_57_@_V_160', 'E_57_@_V_162', 'E_57_@_V_163', 'E_57_@_V_164', 'E_57_@_V_165', 'E_57_@_V_166', 'E_57_@_V_167', 'E_57_@_V_168', 'E_57_@_V_169', 'E_57_@_V_170', 'E_57_@_V_171', 'E_57_@_V_172', 'E_57_@_V_173', 'E_57_@_V_174', 'E_57_@_V_175', 'E_57_@_V_176', 'E_57_@_V_177', 'E_57_@_V_178', 'E_57_@_V_185', 'E_57_@_V_186', 'E_57_@_V_187', 'E_57_@_V_188', 'E_57_@_V_189', 'E_57_@_V_190', 'E_57_@_V_194', 'E_57_@_V_195', 'E_57_@_V_197', 'E_54_@_V_11', 'E_54_@_V_71', 'E_54_@_V_112', 'E_54_@_V_154', 'E_54_@_V_161', 'E_54_@_V_179', 'E_54_@_V_180', 'E_54_@_V_181', 'E_54_@_V_182', 'E_54_@_V_183', 'E_54_@_V_184', 'E_54_@_V_191', 'E_54_@_V_192', 'E_54_@_V_193', 'E_54_@_V_196', 'E_54_@_V_198', 'E_59_@_0', 'E_59_@_1', 'E_59_@_2', 'E_59_@_3', 'E_59_@_4', 'E_59_@_5', 'E_59_@_6', 'E_59_@_7', 'E_59_@_8', 'E_59_@_9', 'E_59_@_10', 'E_56_@_0', 'E_56_@_1', 'E_56_@_2', 'E_56_@_3', 'E_56_@_4', 'E_56_@_5', 'E_56_@_6', 'E_56_@_7', 'E_56_@_8', 'E_56_@_9', 'E_56_@_10', 'E_58_@_0', 'E_58_@_1', 'E_58_@_2', 'E_58_@_3', 'E_58_@_4', 'E_58_@_5', 'E_58_@_6', 'E_58_@_7', 'E_58_@_8', 'E_58_@_9', 'E_58_@_10', 'E_159', 'E_133_@_V_123', 'E_133_@_V_14', 'E_133_@_V_15', 'E_133_@_V_16', 'E_133_@_V_17', 'E_133_@_V_18', 'E_133_@_V_19', 'E_133_@_V_20', 'E_133_@_V_21', 'E_133_@_V_22', 'E_133_@_V_23', 'E_133_@_V_24', 'E_133_@_V_25', 'E_133_@_V_26', 'E_133_@_V_27', 'E_133_@_V_28', 'E_133_@_V_29', 'E_133_@_V_30', 'E_133_@_V_31', 'E_133_@_V_32', 'E_133_@_V_33', 'E_133_@_V_34', 'E_133_@_V_35', 'E_133_@_V_36', 'E_133_@_V_37', 'E_133_@_V_38', 'E_133_@_V_39', 'E_133_@_V_40', 'E_133_@_V_41', 'E_133_@_V_42', 'E_133_@_V_43', 'E_133_@_V_44', 'E_133_@_V_45', 'E_133_@_V_46', 'E_133_@_V_47', 'E_133_@_V_48', 'E_133_@_V_49', 'E_133_@_V_50', 'E_133_@_V_51', 'E_133_@_V_52', 'E_133_@_V_53', 'E_133_@_V_54', 'E_133_@_V_55', 'E_133_@_V_56', 'E_133_@_V_57', 'E_133_@_V_58', 'E_133_@_V_59', 'E_133_@_V_60', 'E_133_@_V_61', 'E_133_@_V_62', 'E_133_@_V_63', 'E_133_@_V_64', 'E_133_@_V_65', 'E_133_@_V_66', 'E_133_@_V_67', 'E_133_@_V_68', 'E_133_@_V_69', 'E_133_@_V_70', 'E_133_@_V_72', 'E_133_@_V_73', 'E_133_@_V_74', 'E_133_@_V_75', 'E_133_@_V_76', 'E_133_@_V_77', 'E_133_@_V_78', 'E_133_@_V_79', 'E_133_@_V_80', 'E_133_@_V_81', 'E_133_@_V_82', 'E_133_@_V_83', 'E_133_@_V_84', 'E_133_@_V_85', 'E_133_@_V_87', 'E_133_@_V_88', 'E_133_@_V_89', 'E_133_@_V_90', 'E_133_@_V_91', 'E_133_@_V_92', 'E_133_@_V_93', 'E_133_@_V_94', 'E_133_@_V_95', 'E_133_@_V_96', 'E_133_@_V_97', 'E_133_@_V_98', 'E_133_@_V_99', 'E_133_@_V_100', 'E_133_@_V_101', 'E_133_@_V_102', 'E_133_@_V_103', 'E_133_@_V_104', 'E_133_@_V_105', 'E_133_@_V_106', 'E_133_@_V_108', 'E_133_@_V_109', 'E_133_@_V_110', 'E_133_@_V_111', 'E_133_@_V_113', 'E_133_@_V_114', 'E_133_@_V_115', 'E_133_@_V_116', 'E_133_@_V_117', 'E_133_@_V_118', 'E_133_@_V_119', 'E_133_@_V_120', 'E_133_@_V_121', 'E_133_@_V_122', 'E_133_@_V_124', 'E_133_@_V_125', 'E_133_@_V_126', 'E_133_@_V_127', 'E_133_@_V_128', 'E_133_@_V_129', 'E_133_@_V_130', 'E_133_@_V_131', 'E_133_@_V_132', 'E_133_@_V_133', 'E_133_@_V_134', 'E_133_@_V_135', 'E_133_@_V_136', 'E_133_@_V_137', 'E_133_@_V_139', 'E_133_@_V_140', 'E_133_@_V_141', 'E_133_@_V_142', 'E_133_@_V_143', 'E_133_@_V_144', 'E_133_@_V_145', 'E_133_@_V_146', 'E_133_@_V_147', 'E_133_@_V_148', 'E_133_@_V_149', 'E_133_@_V_150', 'E_133_@_V_151', 'E_133_@_V_152', 'E_133_@_V_153', 'E_133_@_V_155', 'E_133_@_V_158', 'E_133_@_V_159', 'E_133_@_V_160', 'E_133_@_V_162', 'E_133_@_V_163', 'E_133_@_V_164', 'E_133_@_V_165', 'E_133_@_V_166', 'E_133_@_V_167', 'E_133_@_V_168', 'E_133_@_V_169', 'E_133_@_V_170', 'E_133_@_V_171', 'E_133_@_V_172', 'E_133_@_V_173', 'E_133_@_V_174', 'E_133_@_V_175', 'E_133_@_V_176', 'E_133_@_V_177', 'E_133_@_V_178', 'E_133_@_V_185', 'E_133_@_V_186', 'E_133_@_V_187', 'E_133_@_V_188', 'E_133_@_V_189', 'E_133_@_V_190', 'E_133_@_V_194', 'E_133_@_V_195', 'E_133_@_V_197', 'E_129', 'E_130_@_V_11', 'E_130_@_V_86', 'E_130_@_V_107', 'E_130_@_V_138', 'E_130_@_V_156', 'E_130_@_V_157', 'E_134_@_0', 'E_134_@_1', 'E_134_@_2', 'E_134_@_3', 'E_134_@_4', 'E_134_@_5', 'E_134_@_6', 'E_134_@_7', 'E_134_@_8', 'E_134_@_9', 'E_134_@_10', 'E_132_@_0', 'E_132_@_1', 'E_132_@_2', 'E_132_@_3', 'E_132_@_4', 'E_132_@_5', 'E_132_@_6', 'E_132_@_7', 'E_132_@_8', 'E_132_@_9', 'E_132_@_10', 'E_136_@_0', 'E_136_@_1', 'E_136_@_2', 'E_136_@_3', 'E_136_@_4', 'E_136_@_5', 'E_136_@_6', 'E_136_@_7', 'E_136_@_8', 'E_136_@_9', 'E_136_@_10', 'E_135_@_V_10', 'E_135_@_V_12', 'E_131_@_V_10', 'E_131_@_V_12', 'E_154', 'E_155', 'E_210', 'E_140', 'E_51', 'E_75', 'E_89', 'E_114', 'E_82', 'E_148', 'E_94', 'E_220', 'E_161', 'E_179', 'E_162', 'E_173', 'E_33', 'E_218', 'E_93', 'E_66', 'E_163', 'E_30', 'E_127', 'E_181', 'E_88', 'E_43', 'E_156', 'E_144', 'E_216', 'E_201', 'E_217', 'E_215', 'E_64', 'E_96', 'E_16', 'E_50', 'E_97', 'E_9', 'E_76', 'E_102', 'E_65', 'E_74', 'E_205', 'E_63', 'E_128', 'E_190', 'E_39', 'E_212', 'E_206', 'E_52', 'E_203', 'E_38', 'E_172', 'E_84', 'E_90', 'E_211', 'E_166', 'E_112', 'E_178', 'E_152_@_V_123', 'E_152_@_V_14', 'E_152_@_V_15', 'E_152_@_V_16', 'E_152_@_V_17', 'E_152_@_V_18', 'E_152_@_V_19', 'E_152_@_V_20', 'E_152_@_V_21', 'E_152_@_V_22', 'E_152_@_V_23', 'E_152_@_V_24', 'E_152_@_V_25', 'E_152_@_V_26', 'E_152_@_V_27', 'E_152_@_V_28', 'E_152_@_V_29', 'E_152_@_V_30', 'E_152_@_V_31', 'E_152_@_V_32', 'E_152_@_V_33', 'E_152_@_V_34', 'E_152_@_V_35', 'E_152_@_V_36', 'E_152_@_V_37', 'E_152_@_V_38', 'E_152_@_V_39', 'E_152_@_V_40', 'E_152_@_V_41', 'E_152_@_V_42', 'E_152_@_V_43', 'E_152_@_V_44', 'E_152_@_V_45', 'E_152_@_V_46', 'E_152_@_V_47', 'E_152_@_V_48', 'E_152_@_V_49', 'E_152_@_V_50', 'E_152_@_V_51', 'E_152_@_V_52', 'E_152_@_V_53', 'E_152_@_V_54', 'E_152_@_V_55', 'E_152_@_V_56', 'E_152_@_V_57', 'E_152_@_V_58', 'E_152_@_V_59', 'E_152_@_V_60', 'E_152_@_V_61', 'E_152_@_V_62', 'E_152_@_V_63', 'E_152_@_V_64', 'E_152_@_V_65', 'E_152_@_V_66', 'E_152_@_V_67', 'E_152_@_V_68', 'E_152_@_V_69', 'E_152_@_V_70', 'E_152_@_V_72', 'E_152_@_V_73', 'E_152_@_V_74', 'E_152_@_V_75', 'E_152_@_V_76', 'E_152_@_V_77', 'E_152_@_V_78', 'E_152_@_V_79', 'E_152_@_V_80', 'E_152_@_V_81', 'E_152_@_V_82', 'E_152_@_V_83', 'E_152_@_V_84', 'E_152_@_V_85', 'E_152_@_V_87', 'E_152_@_V_88', 'E_152_@_V_89', 'E_152_@_V_90', 'E_152_@_V_91', 'E_152_@_V_92', 'E_152_@_V_93', 'E_152_@_V_94', 'E_152_@_V_95', 'E_152_@_V_96', 'E_152_@_V_97', 'E_152_@_V_98', 'E_152_@_V_99', 'E_152_@_V_100', 'E_152_@_V_101', 'E_152_@_V_102', 'E_152_@_V_103', 'E_152_@_V_104', 'E_152_@_V_105', 'E_152_@_V_106', 'E_152_@_V_108', 'E_152_@_V_109', 'E_152_@_V_110', 'E_152_@_V_111', 'E_152_@_V_113', 'E_152_@_V_114', 'E_152_@_V_115', 'E_152_@_V_116', 'E_152_@_V_117', 'E_152_@_V_118', 'E_152_@_V_119', 'E_152_@_V_120', 'E_152_@_V_121', 'E_152_@_V_122', 'E_152_@_V_124', 'E_152_@_V_125', 'E_152_@_V_126', 'E_152_@_V_127', 'E_152_@_V_128', 'E_152_@_V_129', 'E_152_@_V_130', 'E_152_@_V_131', 'E_152_@_V_132', 'E_152_@_V_133', 'E_152_@_V_134', 'E_152_@_V_135', 'E_152_@_V_136', 'E_152_@_V_137', 'E_152_@_V_139', 'E_152_@_V_140', 'E_152_@_V_141', 'E_152_@_V_142', 'E_152_@_V_143', 'E_152_@_V_144', 'E_152_@_V_145', 'E_152_@_V_146', 'E_152_@_V_147', 'E_152_@_V_148', 'E_152_@_V_149', 'E_152_@_V_150', 'E_152_@_V_151', 'E_152_@_V_152', 'E_152_@_V_153', 'E_152_@_V_155', 'E_152_@_V_158', 'E_152_@_V_159', 'E_152_@_V_160', 'E_152_@_V_162', 'E_152_@_V_163', 'E_152_@_V_164', 'E_152_@_V_165', 'E_152_@_V_166', 'E_152_@_V_167', 'E_152_@_V_168', 'E_152_@_V_169', 'E_152_@_V_170', 'E_152_@_V_171', 'E_152_@_V_172', 'E_152_@_V_173', 'E_152_@_V_174', 'E_152_@_V_175', 'E_152_@_V_176', 'E_152_@_V_177', 'E_152_@_V_178', 'E_152_@_V_185', 'E_152_@_V_186', 'E_152_@_V_187', 'E_152_@_V_188', 'E_152_@_V_189', 'E_152_@_V_190', 'E_152_@_V_194', 'E_152_@_V_195', 'E_152_@_V_197', 'E_151', 'E_45', 'E_194', 'E_83', 'E_157', 'E_176', 'E_42', 'E_214', 'E_150', 'E_32', 'E_221', 'E_202', 'E_219', 'E_196', 'E_170', 'E_77', 'E_13', 'E_14', 'E_169', 'E_177', 'E_175', 'E_174', 'E_145', 'E_92', 'E_192', 'E_188', 'E_164', 'E_193', 'E_168', 'E_180', 'E_67', 'E_78', 'E_146', 'E_171', 'E_111', 'E_182', 'E_103', 'E_23', 'E_105', 'E_108', 'E_104', 'E_79', 'E_71', 'E_41', 'E_100', 'E_69', 'E_167', 'E_115', 'E_70', 'E_10', 'E_165', 'E_8', 'E_25', 'E_184', 'E_185', 'E_99', 'E_107', 'E_226', 'E_62', 'E_49', 'E_95', 'E_204_@_V_10', 'E_204_@_V_0', 'E_204_@_V_1', 'E_204_@_V_2', 'E_204_@_V_3', 'E_204_@_V_4', 'E_204_@_V_5', 'E_204_@_V_6', 'E_204_@_V_7', 'E_204_@_V_8', 'E_204_@_V_9', 'E_204_@_V_13', 'E_37', 'E_153', 'E_124', 'E_98', 'E_116', 'E_48', 'E_2', 'E_227', 'E_61', 'E_47', 'E_27', 'E_143', 'E_191', 'E_208', 'E_126', 'E_189', 'E_7', 'E_24', 'E_26', 'E_113', 'E_160', 'E_28', 'E_20', 'E_80', 'E_40', 'E_0', 'E_1', 'E_34', 'E_209', 'E_139', 'E_19', 'E_31', 'E_22', 'E_60', 'E_35', 'E_213', 'E_12', 'E_44', 'E_4', 'E_81', 'E_109', 'E_110', 'E_17', 'E_18', 'E_118', 'E_123', 'E_207', 'E_86', 'E_87', 'E_141', 'E_11', 'E_186', 'E_106', 'E_158', 'E_187', 'E_6', 'E_125', 'E_21', 'E_222', 'E_15', 'E_147', 'E_137', 'E_149', 'E_197', 'E_3', 'E_29', 'E_225', 'E_73', 'E_138', 'E_101', 'E_46', 'E_119', 'E_72', 'E_198', 'E_200', 'E_199', 'E_121', 'E_120', 'E_142', 'E_195', 'E_183', 'E_224', 'E_223', 'E_5']\n"
     ]
    }
   ],
   "source": [
    "print(len(set_evidences))\n",
    "print(set_evidences)"
   ]
  },
  {
   "cell_type": "code",
   "execution_count": 40,
   "id": "dfdd5c93",
   "metadata": {},
   "outputs": [],
   "source": [
    "dict_data = {}\n",
    "dict_data['AGE'] = []\n",
    "dict_data['SEX'] = []"
   ]
  },
  {
   "cell_type": "code",
   "execution_count": 41,
   "id": "184427df",
   "metadata": {},
   "outputs": [],
   "source": [
    "def introduce_conditions(conditions, dict_for_insert):\n",
    "    for condition in conditions:\n",
    "        dict_for_insert[condition] = []"
   ]
  },
  {
   "cell_type": "code",
   "execution_count": 42,
   "id": "46a9849e",
   "metadata": {},
   "outputs": [],
   "source": [
    "def introduce_evidences(evidences, dict_for_insert):\n",
    "    for evidence in evidences:\n",
    "        dict_for_insert[evidence] = []"
   ]
  },
  {
   "cell_type": "code",
   "execution_count": 43,
   "id": "68d5dd0c",
   "metadata": {},
   "outputs": [],
   "source": [
    "introduce_evidences(set_evidences, dict_data)"
   ]
  },
  {
   "cell_type": "code",
   "execution_count": 44,
   "id": "0b90620d",
   "metadata": {},
   "outputs": [],
   "source": [
    "introduce_conditions(set_conditions, dict_data)"
   ]
  },
  {
   "cell_type": "code",
   "execution_count": 45,
   "id": "085614ca",
   "metadata": {},
   "outputs": [],
   "source": [
    "df = pd.read_csv(\"huggingface_dataset/ddxplus/train.csv\")"
   ]
  },
  {
   "cell_type": "code",
   "execution_count": 46,
   "id": "c4a78ed8",
   "metadata": {},
   "outputs": [
    {
     "data": {
      "text/plain": [
       "1025602"
      ]
     },
     "execution_count": 46,
     "metadata": {},
     "output_type": "execute_result"
    }
   ],
   "source": [
    "len(df)"
   ]
  },
  {
   "cell_type": "code",
   "execution_count": 47,
   "id": "4bc76a88",
   "metadata": {},
   "outputs": [
    {
     "name": "stdout",
     "output_type": "stream",
     "text": [
      "39.0\n",
      "F\n"
     ]
    }
   ],
   "source": [
    "median_age = df['AGE'].median()\n",
    "print(median_age)\n",
    "most_frequent_sex = df['SEX'].mode()[0]\n",
    "print(most_frequent_sex)"
   ]
  },
  {
   "cell_type": "code",
   "execution_count": 48,
   "id": "a9d6b94d",
   "metadata": {},
   "outputs": [],
   "source": [
    "df['AGE'] = df['AGE'].fillna(median_age)\n",
    "df['SEX'] = df['SEX'].fillna(most_frequent_sex)"
   ]
  },
  {
   "cell_type": "code",
   "execution_count": 49,
   "id": "fff9e575",
   "metadata": {},
   "outputs": [],
   "source": [
    "import re\n",
    "import ast"
   ]
  },
  {
   "cell_type": "code",
   "execution_count": 31,
   "id": "a0544069",
   "metadata": {},
   "outputs": [],
   "source": [
    "def convert_to_dict(dataframe, dictionary):\n",
    "    for index, row in dataframe.iterrows():\n",
    "        dict_record = {}\n",
    "        dict_record['AGE'] = row['AGE']\n",
    "        dict_record['SEX'] = row['SEX']\n",
    "        evidences_string = row['EVIDENCES']\n",
    "        evidences_parts = ast.literal_eval(evidences_string)\n",
    "        differential_diagnosis_string = row['DIFFERENTIAL_DIAGNOSIS']\n",
    "        differential_diagnosis_parts = ast.literal_eval(differential_diagnosis_string)\n",
    "        for evidence in evidences_parts:\n",
    "            dict_record[evidence] = 1\n",
    "        for evidence in set_evidences:\n",
    "            if evidence not in dict_record:\n",
    "                dict_record[evidence] = 0\n",
    "        for diagnosis_prob in differential_diagnosis_parts:\n",
    "            dict_record[diagnosis_prob[0]] = diagnosis_prob[1]\n",
    "        for diagnosis in set_conditions:\n",
    "            if diagnosis not in dict_record:\n",
    "                dict_record[diagnosis] = 0\n",
    "        for key, val in dict_record.items():\n",
    "            dictionary[key].append(val)"
   ]
  },
  {
   "cell_type": "code",
   "execution_count": 50,
   "id": "5b4612d3",
   "metadata": {},
   "outputs": [],
   "source": [
    "def convert_to_dict(dataframe, dictionary):\n",
    "    for index, row in dataframe.iterrows():\n",
    "        dict_record = {}\n",
    "        dict_record['AGE'] = row['AGE']\n",
    "        dict_record['SEX'] = row['SEX']\n",
    "        evidences_string = row['EVIDENCES']\n",
    "        evidences_parts = ast.literal_eval(evidences_string)\n",
    "        differential_diagnosis_string = row['PATHOLOGY']\n",
    "        # differential_diagnosis_parts = ast.literal_eval(differential_diagnosis_string)\n",
    "        for evidence in evidences_parts:\n",
    "            dict_record[evidence] = 1\n",
    "        for evidence in set_evidences:\n",
    "            if evidence not in dict_record:\n",
    "                dict_record[evidence] = 0\n",
    "        dict_record[differential_diagnosis_string] = 1\n",
    "        for diagnosis in set_conditions:\n",
    "            if diagnosis not in dict_record:\n",
    "                dict_record[diagnosis] = 0\n",
    "        for key, val in dict_record.items():\n",
    "            dictionary[key].append(val)"
   ]
  },
  {
   "cell_type": "code",
   "execution_count": 51,
   "id": "eeca23f9",
   "metadata": {},
   "outputs": [],
   "source": [
    "convert_to_dict(df, dict_data)"
   ]
  },
  {
   "cell_type": "code",
   "execution_count": 52,
   "id": "9db3d619",
   "metadata": {},
   "outputs": [],
   "source": [
    "df_preproccessed = pd.DataFrame(dict_data)"
   ]
  },
  {
   "cell_type": "code",
   "execution_count": null,
   "id": "5bfdee68",
   "metadata": {},
   "outputs": [],
   "source": [
    "df_preproccessed.to_csv(\"preprocessed_dataset/preprocessed_train.csv\")"
   ]
  },
  {
   "cell_type": "code",
   "execution_count": 54,
   "id": "f64c2f7e",
   "metadata": {},
   "outputs": [],
   "source": [
    "dict_data_test = {}\n",
    "dict_data_test['AGE'] = []\n",
    "dict_data_test['SEX'] = []"
   ]
  },
  {
   "cell_type": "code",
   "execution_count": 55,
   "id": "3d0e15d5",
   "metadata": {},
   "outputs": [],
   "source": [
    "introduce_evidences(set_evidences, dict_data_test)"
   ]
  },
  {
   "cell_type": "code",
   "execution_count": 56,
   "id": "2279d612",
   "metadata": {},
   "outputs": [],
   "source": [
    "introduce_conditions(set_conditions, dict_data_test)"
   ]
  },
  {
   "cell_type": "code",
   "execution_count": 64,
   "id": "623186e8",
   "metadata": {},
   "outputs": [],
   "source": [
    "df_test = pd.read_csv(\"huggingface_dataset/ddxplus/test.csv\")"
   ]
  },
  {
   "cell_type": "code",
   "execution_count": 65,
   "id": "5e62ca10",
   "metadata": {},
   "outputs": [
    {
     "name": "stdout",
     "output_type": "stream",
     "text": [
      "39.0\n",
      "F\n"
     ]
    }
   ],
   "source": [
    "median_age = df_test['AGE'].median()\n",
    "print(median_age)\n",
    "most_frequent_sex = df_test['SEX'].mode()[0]\n",
    "print(most_frequent_sex)"
   ]
  },
  {
   "cell_type": "code",
   "execution_count": 66,
   "id": "fccfb71c",
   "metadata": {},
   "outputs": [],
   "source": [
    "df_test['AGE'] = df_test['AGE'].fillna(median_age)\n",
    "df_test['SEX'] = df_test['SEX'].fillna(most_frequent_sex)"
   ]
  },
  {
   "cell_type": "code",
   "execution_count": 67,
   "id": "5be28b29",
   "metadata": {},
   "outputs": [],
   "source": [
    "convert_to_dict(df_test, dict_data_test)"
   ]
  },
  {
   "cell_type": "code",
   "execution_count": 68,
   "id": "d74ef15c",
   "metadata": {},
   "outputs": [],
   "source": [
    "df_test_preproccessed = pd.DataFrame(dict_data_test)"
   ]
  },
  {
   "cell_type": "code",
   "execution_count": 69,
   "id": "9088f86c",
   "metadata": {},
   "outputs": [],
   "source": [
    "df_test_preproccessed.to_csv(\"preprocessed_dataset/preprocessed_test_nondiff.csv\")"
   ]
  },
  {
   "cell_type": "code",
   "execution_count": 38,
   "id": "20a7f0da",
   "metadata": {},
   "outputs": [],
   "source": [
    "dict_data_validate = {}\n",
    "dict_data_validate['AGE'] = []\n",
    "dict_data_validate['SEX'] = []"
   ]
  },
  {
   "cell_type": "code",
   "execution_count": 39,
   "id": "fe954905",
   "metadata": {},
   "outputs": [],
   "source": [
    "introduce_evidences(set_evidences, dict_data_validate)"
   ]
  },
  {
   "cell_type": "code",
   "execution_count": 40,
   "id": "027e1f77",
   "metadata": {},
   "outputs": [],
   "source": [
    "introduce_conditions(set_conditions, dict_data_validate)"
   ]
  },
  {
   "cell_type": "code",
   "execution_count": 41,
   "id": "fdd0f299",
   "metadata": {},
   "outputs": [],
   "source": [
    "df_validate = pd.read_csv(\"huggingface_dataset/ddxplus/validate.csv\")"
   ]
  },
  {
   "cell_type": "code",
   "execution_count": 42,
   "id": "386df35d",
   "metadata": {},
   "outputs": [],
   "source": [
    "convert_to_dict(df_validate, dict_data_validate)"
   ]
  },
  {
   "cell_type": "code",
   "execution_count": 43,
   "id": "b3adc9c2",
   "metadata": {},
   "outputs": [],
   "source": [
    "df_validate_preproccessed = pd.DataFrame(dict_data_validate)"
   ]
  },
  {
   "cell_type": "code",
   "execution_count": null,
   "id": "215aee5e",
   "metadata": {},
   "outputs": [],
   "source": [
    "df_validate_preproccessed.to_csv(\"preproccessed_dataset/preprocessed_validate.csv\")"
   ]
  }
 ],
 "metadata": {
  "kernelspec": {
   "display_name": "venv",
   "language": "python",
   "name": "python3"
  },
  "language_info": {
   "codemirror_mode": {
    "name": "ipython",
    "version": 3
   },
   "file_extension": ".py",
   "mimetype": "text/x-python",
   "name": "python",
   "nbconvert_exporter": "python",
   "pygments_lexer": "ipython3",
   "version": "3.13.2"
  }
 },
 "nbformat": 4,
 "nbformat_minor": 5
}
