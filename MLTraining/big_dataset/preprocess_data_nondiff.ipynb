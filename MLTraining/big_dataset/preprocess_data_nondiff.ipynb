{
 "cells": [
  {
   "cell_type": "code",
   "execution_count": null,
   "id": "4797c284",
   "metadata": {},
   "outputs": [],
   "source": [
    "import pandas as pd\n",
    "import json\n",
    "import ast"
   ]
  },
  {
   "cell_type": "code",
   "execution_count": null,
   "id": "5b4612d3",
   "metadata": {},
   "outputs": [],
   "source": [
    "def convert_to_dict_non_diff(dataframe, dictionary, set_evidences, set_conditions):\n",
    "    for index, row in dataframe.iterrows():\n",
    "        dict_record = {}\n",
    "        dict_record['AGE'] = row['AGE']\n",
    "        dict_record['SEX'] = row['SEX']\n",
    "        evidences_string = row['EVIDENCES']\n",
    "        evidences_parts = ast.literal_eval(evidences_string)\n",
    "        differential_diagnosis_string = row['PATHOLOGY']\n",
    "        for evidence in evidences_parts:\n",
    "            dict_record[evidence] = 1\n",
    "        for evidence in set_evidences:\n",
    "            if evidence not in dict_record:\n",
    "                dict_record[evidence] = 0\n",
    "        dict_record[differential_diagnosis_string] = 1\n",
    "        for diagnosis in set_conditions:\n",
    "            if diagnosis not in dict_record:\n",
    "                dict_record[diagnosis] = 0\n",
    "        for key, val in dict_record.items():\n",
    "            dictionary[key].append(val)"
   ]
  },
  {
   "cell_type": "code",
   "execution_count": 80,
   "id": "184427df",
   "metadata": {},
   "outputs": [],
   "source": [
    "def introduce_conditions(conditions, dict_for_insert):\n",
    "    for condition in conditions:\n",
    "        dict_for_insert[condition] = []"
   ]
  },
  {
   "cell_type": "code",
   "execution_count": 81,
   "id": "46a9849e",
   "metadata": {},
   "outputs": [],
   "source": [
    "def introduce_evidences(evidences, dict_for_insert):\n",
    "    for evidence in evidences:\n",
    "        dict_for_insert[evidence] = []"
   ]
  },
  {
   "cell_type": "code",
   "execution_count": null,
   "id": "2cbbdb78",
   "metadata": {},
   "outputs": [],
   "source": [
    "with open(\"huggingface_dataset/ddxplus/release_evidences.json\", \"r\") as f:\n",
    "    release_evidences = json.load(f)\n",
    "\n",
    "with open(\"huggingface_dataset/ddxplus/release_conditions.json\", \"r\") as f:\n",
    "    release_conditions = json.load(f)"
   ]
  },
  {
   "cell_type": "code",
   "execution_count": null,
   "id": "96be71d1",
   "metadata": {},
   "outputs": [],
   "source": [
    "set_conditions = [a for a in release_conditions.keys()]\n",
    "set_evidences = []\n",
    "for key, value in release_evidences.items():\n",
    "    if len(value['possible-values']) > 0:\n",
    "        for val in value['possible-values']:\n",
    "            set_evidences.append(f'{key}_@_{val}')\n",
    "    else:\n",
    "        set_evidences.append(f'{key}')"
   ]
  },
  {
   "cell_type": "code",
   "execution_count": null,
   "id": "68d5dd0c",
   "metadata": {},
   "outputs": [],
   "source": [
    "dict_data = {}\n",
    "dict_data['AGE'] = []\n",
    "dict_data['SEX'] = []\n",
    "introduce_evidences(set_evidences, dict_data)\n",
    "introduce_conditions(set_conditions, dict_data)"
   ]
  },
  {
   "cell_type": "code",
   "execution_count": null,
   "id": "a9d6b94d",
   "metadata": {},
   "outputs": [],
   "source": [
    "df = pd.read_csv(\"huggingface_dataset/ddxplus/train.csv\")\n",
    "df['AGE'] = df['AGE'].fillna(df['AGE'].median())\n",
    "df['SEX'] = df['SEX'].fillna(df['SEX'].mode()[0])\n",
    "convert_to_dict_non_diff(df, dict_data, set_evidences, set_conditions)"
   ]
  },
  {
   "cell_type": "code",
   "execution_count": null,
   "id": "9db3d619",
   "metadata": {},
   "outputs": [],
   "source": [
    "df_preproccessed = pd.DataFrame(dict_data)\n",
    "df_preproccessed.to_csv(\"preprocessed_dataset/preprocessed_train_non_diff.csv\")"
   ]
  },
  {
   "cell_type": "code",
   "execution_count": null,
   "id": "2279d612",
   "metadata": {},
   "outputs": [],
   "source": [
    "dict_data_test = {}\n",
    "dict_data_test['AGE'] = []\n",
    "dict_data_test['SEX'] = []\n",
    "introduce_evidences(set_evidences, dict_data_test)\n",
    "introduce_conditions(set_conditions, dict_data_test)"
   ]
  },
  {
   "cell_type": "code",
   "execution_count": null,
   "id": "623186e8",
   "metadata": {},
   "outputs": [],
   "source": [
    "df_test = pd.read_csv(\"huggingface_dataset/ddxplus/test.csv\")\n",
    "df_test['AGE'] = df_test['AGE'].fillna(df_test['AGE'].median())\n",
    "df_test['SEX'] = df_test['SEX'].fillna(df_test['SEX'].mode()[0])\n",
    "convert_to_dict_non_diff(df_test, dict_data_test, set_evidences, set_conditions)"
   ]
  },
  {
   "cell_type": "code",
   "execution_count": null,
   "id": "d74ef15c",
   "metadata": {},
   "outputs": [],
   "source": [
    "df_test_preproccessed = pd.DataFrame(dict_data_test)\n",
    "df_test_preproccessed.to_csv(\"preprocessed_dataset/preprocessed_test_nondiff.csv\")"
   ]
  },
  {
   "cell_type": "code",
   "execution_count": null,
   "id": "20a7f0da",
   "metadata": {},
   "outputs": [],
   "source": [
    "dict_data_validate = {}\n",
    "dict_data_validate['AGE'] = []\n",
    "dict_data_validate['SEX'] = []\n",
    "introduce_evidences(set_evidences, dict_data_validate)\n",
    "introduce_conditions(set_conditions, dict_data_validate)"
   ]
  },
  {
   "cell_type": "code",
   "execution_count": null,
   "id": "fdd0f299",
   "metadata": {},
   "outputs": [],
   "source": [
    "df_validate = pd.read_csv(\"huggingface_dataset/ddxplus/validate.csv\")\n",
    "df_validate['AGE'] = df_validate['AGE'].fillna(df_validate['AGE'].median())\n",
    "df_validate['SEX'] = df_validate['SEX'].fillna(df_validate['SEX'].mode()[0])\n",
    "convert_to_dict_non_diff(df_validate, dict_data_validate, set_evidences, set_conditions)"
   ]
  },
  {
   "cell_type": "code",
   "execution_count": null,
   "id": "b3adc9c2",
   "metadata": {},
   "outputs": [],
   "source": [
    "df_validate_preproccessed = pd.DataFrame(dict_data_validate)\n",
    "df_validate_preproccessed.to_csv(\"preproccessed_dataset/preprocessed_validate_non_diff.csv\")"
   ]
  }
 ],
 "metadata": {
  "kernelspec": {
   "display_name": "venv",
   "language": "python",
   "name": "python3"
  },
  "language_info": {
   "codemirror_mode": {
    "name": "ipython",
    "version": 3
   },
   "file_extension": ".py",
   "mimetype": "text/x-python",
   "name": "python",
   "nbconvert_exporter": "python",
   "pygments_lexer": "ipython3",
   "version": "3.13.2"
  }
 },
 "nbformat": 4,
 "nbformat_minor": 5
}
